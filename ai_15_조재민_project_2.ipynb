{
  "nbformat": 4,
  "nbformat_minor": 0,
  "metadata": {
    "colab": {
      "provenance": [],
      "collapsed_sections": [
        "nd9qb9ZYIk_W"
      ]
    },
    "kernelspec": {
      "name": "python3",
      "display_name": "Python 3"
    },
    "language_info": {
      "name": "python"
    }
  },
  "cells": [
    {
      "cell_type": "markdown",
      "source": [
        "# **라이브러리 및 데이터셋 불러오기**"
      ],
      "metadata": {
        "id": "9O-bbdUAI3n8"
      }
    },
    {
      "cell_type": "code",
      "execution_count": 1,
      "metadata": {
        "colab": {
          "base_uri": "https://localhost:8080/",
          "height": 1000
        },
        "id": "VeCVemXMHRpp",
        "outputId": "434ba264-3078-4af6-9f9c-cd1b3d6634c9"
      },
      "outputs": [
        {
          "output_type": "stream",
          "name": "stdout",
          "text": [
            "Looking in indexes: https://pypi.org/simple, https://us-python.pkg.dev/colab-wheels/public/simple/\n",
            "Requirement already satisfied: pandas-profiling==3.3.0 in /usr/local/lib/python3.7/dist-packages (3.3.0)\n",
            "Requirement already satisfied: PyYAML<6.1,>=5.0.0 in /usr/local/lib/python3.7/dist-packages (from pandas-profiling==3.3.0) (6.0)\n",
            "Requirement already satisfied: pandas!=1.4.0,<1.5,>1.1 in /usr/local/lib/python3.7/dist-packages (from pandas-profiling==3.3.0) (1.3.5)\n",
            "Requirement already satisfied: statsmodels<0.14,>=0.13.2 in /usr/local/lib/python3.7/dist-packages (from pandas-profiling==3.3.0) (0.13.2)\n",
            "Requirement already satisfied: pydantic<1.10,>=1.8.1 in /usr/local/lib/python3.7/dist-packages (from pandas-profiling==3.3.0) (1.9.2)\n",
            "Requirement already satisfied: requests<2.29,>=2.24.0 in /usr/local/lib/python3.7/dist-packages (from pandas-profiling==3.3.0) (2.28.1)\n",
            "Requirement already satisfied: missingno<0.6,>=0.4.2 in /usr/local/lib/python3.7/dist-packages (from pandas-profiling==3.3.0) (0.5.1)\n",
            "Requirement already satisfied: multimethod<1.9,>=1.4 in /usr/local/lib/python3.7/dist-packages (from pandas-profiling==3.3.0) (1.8)\n",
            "Requirement already satisfied: joblib~=1.1.0 in /usr/local/lib/python3.7/dist-packages (from pandas-profiling==3.3.0) (1.1.0)\n",
            "Requirement already satisfied: jinja2<3.2,>=2.11.1 in /usr/local/lib/python3.7/dist-packages (from pandas-profiling==3.3.0) (2.11.3)\n",
            "Requirement already satisfied: visions[type_image_path]==0.7.5 in /usr/local/lib/python3.7/dist-packages (from pandas-profiling==3.3.0) (0.7.5)\n",
            "Requirement already satisfied: phik<0.13,>=0.11.1 in /usr/local/lib/python3.7/dist-packages (from pandas-profiling==3.3.0) (0.12.2)\n",
            "Requirement already satisfied: numpy<1.24,>=1.16.0 in /usr/local/lib/python3.7/dist-packages (from pandas-profiling==3.3.0) (1.21.6)\n",
            "Requirement already satisfied: tangled-up-in-unicode==0.2.0 in /usr/local/lib/python3.7/dist-packages (from pandas-profiling==3.3.0) (0.2.0)\n",
            "Collecting matplotlib<3.6,>=3.2\n",
            "  Using cached matplotlib-3.5.3-cp37-cp37m-manylinux_2_5_x86_64.manylinux1_x86_64.whl (11.2 MB)\n",
            "Requirement already satisfied: scipy<1.10,>=1.4.1 in /usr/local/lib/python3.7/dist-packages (from pandas-profiling==3.3.0) (1.7.3)\n",
            "Requirement already satisfied: htmlmin==0.1.12 in /usr/local/lib/python3.7/dist-packages (from pandas-profiling==3.3.0) (0.1.12)\n",
            "Requirement already satisfied: tqdm<4.65,>=4.48.2 in /usr/local/lib/python3.7/dist-packages (from pandas-profiling==3.3.0) (4.64.1)\n",
            "Requirement already satisfied: seaborn<0.12,>=0.10.1 in /usr/local/lib/python3.7/dist-packages (from pandas-profiling==3.3.0) (0.11.2)\n",
            "Requirement already satisfied: networkx>=2.4 in /usr/local/lib/python3.7/dist-packages (from visions[type_image_path]==0.7.5->pandas-profiling==3.3.0) (2.6.3)\n",
            "Requirement already satisfied: attrs>=19.3.0 in /usr/local/lib/python3.7/dist-packages (from visions[type_image_path]==0.7.5->pandas-profiling==3.3.0) (22.1.0)\n",
            "Requirement already satisfied: imagehash in /usr/local/lib/python3.7/dist-packages (from visions[type_image_path]==0.7.5->pandas-profiling==3.3.0) (4.3.1)\n",
            "Requirement already satisfied: Pillow in /usr/local/lib/python3.7/dist-packages (from visions[type_image_path]==0.7.5->pandas-profiling==3.3.0) (7.1.2)\n",
            "Requirement already satisfied: MarkupSafe>=0.23 in /usr/local/lib/python3.7/dist-packages (from jinja2<3.2,>=2.11.1->pandas-profiling==3.3.0) (2.0.1)\n",
            "Requirement already satisfied: cycler>=0.10 in /usr/local/lib/python3.7/dist-packages (from matplotlib<3.6,>=3.2->pandas-profiling==3.3.0) (0.11.0)\n",
            "Requirement already satisfied: pyparsing>=2.2.1 in /usr/local/lib/python3.7/dist-packages (from matplotlib<3.6,>=3.2->pandas-profiling==3.3.0) (3.0.9)\n",
            "Requirement already satisfied: kiwisolver>=1.0.1 in /usr/local/lib/python3.7/dist-packages (from matplotlib<3.6,>=3.2->pandas-profiling==3.3.0) (1.4.4)\n",
            "Requirement already satisfied: fonttools>=4.22.0 in /usr/local/lib/python3.7/dist-packages (from matplotlib<3.6,>=3.2->pandas-profiling==3.3.0) (4.37.3)\n",
            "Requirement already satisfied: python-dateutil>=2.7 in /usr/local/lib/python3.7/dist-packages (from matplotlib<3.6,>=3.2->pandas-profiling==3.3.0) (2.8.2)\n",
            "Requirement already satisfied: packaging>=20.0 in /usr/local/lib/python3.7/dist-packages (from matplotlib<3.6,>=3.2->pandas-profiling==3.3.0) (21.3)\n",
            "Requirement already satisfied: typing-extensions in /usr/local/lib/python3.7/dist-packages (from kiwisolver>=1.0.1->matplotlib<3.6,>=3.2->pandas-profiling==3.3.0) (4.1.1)\n",
            "Requirement already satisfied: pytz>=2017.3 in /usr/local/lib/python3.7/dist-packages (from pandas!=1.4.0,<1.5,>1.1->pandas-profiling==3.3.0) (2022.2.1)\n",
            "Requirement already satisfied: six>=1.5 in /usr/local/lib/python3.7/dist-packages (from python-dateutil>=2.7->matplotlib<3.6,>=3.2->pandas-profiling==3.3.0) (1.15.0)\n",
            "Requirement already satisfied: certifi>=2017.4.17 in /usr/local/lib/python3.7/dist-packages (from requests<2.29,>=2.24.0->pandas-profiling==3.3.0) (2022.6.15)\n",
            "Requirement already satisfied: urllib3<1.27,>=1.21.1 in /usr/local/lib/python3.7/dist-packages (from requests<2.29,>=2.24.0->pandas-profiling==3.3.0) (1.24.3)\n",
            "Requirement already satisfied: idna<4,>=2.5 in /usr/local/lib/python3.7/dist-packages (from requests<2.29,>=2.24.0->pandas-profiling==3.3.0) (2.10)\n",
            "Requirement already satisfied: charset-normalizer<3,>=2 in /usr/local/lib/python3.7/dist-packages (from requests<2.29,>=2.24.0->pandas-profiling==3.3.0) (2.1.1)\n",
            "Requirement already satisfied: patsy>=0.5.2 in /usr/local/lib/python3.7/dist-packages (from statsmodels<0.14,>=0.13.2->pandas-profiling==3.3.0) (0.5.2)\n",
            "Requirement already satisfied: PyWavelets in /usr/local/lib/python3.7/dist-packages (from imagehash->visions[type_image_path]==0.7.5->pandas-profiling==3.3.0) (1.3.0)\n",
            "Installing collected packages: matplotlib\n",
            "  Attempting uninstall: matplotlib\n",
            "    Found existing installation: matplotlib 3.1.1\n",
            "    Uninstalling matplotlib-3.1.1:\n",
            "      Successfully uninstalled matplotlib-3.1.1\n",
            "\u001b[31mERROR: pip's dependency resolver does not currently take into account all the packages that are installed. This behaviour is the source of the following dependency conflicts.\n",
            "pdpbox 0.2.1 requires matplotlib==3.1.1, but you have matplotlib 3.5.3 which is incompatible.\u001b[0m\n",
            "Successfully installed matplotlib-3.5.3\n"
          ]
        },
        {
          "output_type": "display_data",
          "data": {
            "application/vnd.colab-display-data+json": {
              "pip_warning": {
                "packages": [
                  "matplotlib",
                  "mpl_toolkits"
                ]
              }
            }
          },
          "metadata": {}
        },
        {
          "output_type": "stream",
          "name": "stdout",
          "text": [
            "Looking in indexes: https://pypi.org/simple, https://us-python.pkg.dev/colab-wheels/public/simple/\n",
            "Requirement already satisfied: category-encoders in /usr/local/lib/python3.7/dist-packages (2.5.0)\n",
            "Requirement already satisfied: scikit-learn>=0.20.0 in /usr/local/lib/python3.7/dist-packages (from category-encoders) (1.0.2)\n",
            "Requirement already satisfied: patsy>=0.5.1 in /usr/local/lib/python3.7/dist-packages (from category-encoders) (0.5.2)\n",
            "Requirement already satisfied: statsmodels>=0.9.0 in /usr/local/lib/python3.7/dist-packages (from category-encoders) (0.13.2)\n",
            "Requirement already satisfied: pandas>=1.0.5 in /usr/local/lib/python3.7/dist-packages (from category-encoders) (1.3.5)\n",
            "Requirement already satisfied: scipy>=1.0.0 in /usr/local/lib/python3.7/dist-packages (from category-encoders) (1.7.3)\n",
            "Requirement already satisfied: numpy>=1.14.0 in /usr/local/lib/python3.7/dist-packages (from category-encoders) (1.21.6)\n",
            "Requirement already satisfied: python-dateutil>=2.7.3 in /usr/local/lib/python3.7/dist-packages (from pandas>=1.0.5->category-encoders) (2.8.2)\n",
            "Requirement already satisfied: pytz>=2017.3 in /usr/local/lib/python3.7/dist-packages (from pandas>=1.0.5->category-encoders) (2022.2.1)\n",
            "Requirement already satisfied: six in /usr/local/lib/python3.7/dist-packages (from patsy>=0.5.1->category-encoders) (1.15.0)\n",
            "Requirement already satisfied: threadpoolctl>=2.0.0 in /usr/local/lib/python3.7/dist-packages (from scikit-learn>=0.20.0->category-encoders) (3.1.0)\n",
            "Requirement already satisfied: joblib>=0.11 in /usr/local/lib/python3.7/dist-packages (from scikit-learn>=0.20.0->category-encoders) (1.1.0)\n",
            "Requirement already satisfied: packaging>=21.3 in /usr/local/lib/python3.7/dist-packages (from statsmodels>=0.9.0->category-encoders) (21.3)\n",
            "Requirement already satisfied: pyparsing!=3.0.5,>=2.0.2 in /usr/local/lib/python3.7/dist-packages (from packaging>=21.3->statsmodels>=0.9.0->category-encoders) (3.0.9)\n",
            "Looking in indexes: https://pypi.org/simple, https://us-python.pkg.dev/colab-wheels/public/simple/\n",
            "Requirement already satisfied: hyperopt in /usr/local/lib/python3.7/dist-packages (0.1.2)\n",
            "Requirement already satisfied: networkx in /usr/local/lib/python3.7/dist-packages (from hyperopt) (2.6.3)\n",
            "Requirement already satisfied: numpy in /usr/local/lib/python3.7/dist-packages (from hyperopt) (1.21.6)\n",
            "Requirement already satisfied: pymongo in /usr/local/lib/python3.7/dist-packages (from hyperopt) (4.2.0)\n",
            "Requirement already satisfied: six in /usr/local/lib/python3.7/dist-packages (from hyperopt) (1.15.0)\n",
            "Requirement already satisfied: tqdm in /usr/local/lib/python3.7/dist-packages (from hyperopt) (4.64.1)\n",
            "Requirement already satisfied: future in /usr/local/lib/python3.7/dist-packages (from hyperopt) (0.16.0)\n",
            "Requirement already satisfied: scipy in /usr/local/lib/python3.7/dist-packages (from hyperopt) (1.7.3)\n",
            "Looking in indexes: https://pypi.org/simple, https://us-python.pkg.dev/colab-wheels/public/simple/\n",
            "Requirement already satisfied: bayesian-optimization in /usr/local/lib/python3.7/dist-packages (1.2.0)\n",
            "Requirement already satisfied: scikit-learn>=0.18.0 in /usr/local/lib/python3.7/dist-packages (from bayesian-optimization) (1.0.2)\n",
            "Requirement already satisfied: numpy>=1.9.0 in /usr/local/lib/python3.7/dist-packages (from bayesian-optimization) (1.21.6)\n",
            "Requirement already satisfied: scipy>=0.14.0 in /usr/local/lib/python3.7/dist-packages (from bayesian-optimization) (1.7.3)\n",
            "Requirement already satisfied: joblib>=0.11 in /usr/local/lib/python3.7/dist-packages (from scikit-learn>=0.18.0->bayesian-optimization) (1.1.0)\n",
            "Requirement already satisfied: threadpoolctl>=2.0.0 in /usr/local/lib/python3.7/dist-packages (from scikit-learn>=0.18.0->bayesian-optimization) (3.1.0)\n",
            "Looking in indexes: https://pypi.org/simple, https://us-python.pkg.dev/colab-wheels/public/simple/\n",
            "Requirement already satisfied: pdpbox in /usr/local/lib/python3.7/dist-packages (0.2.1)\n",
            "Requirement already satisfied: psutil in /usr/local/lib/python3.7/dist-packages (from pdpbox) (5.4.8)\n",
            "Requirement already satisfied: joblib in /usr/local/lib/python3.7/dist-packages (from pdpbox) (1.1.0)\n",
            "Collecting matplotlib==3.1.1\n",
            "  Using cached matplotlib-3.1.1-cp37-cp37m-manylinux1_x86_64.whl (13.1 MB)\n",
            "Requirement already satisfied: scipy in /usr/local/lib/python3.7/dist-packages (from pdpbox) (1.7.3)\n",
            "Requirement already satisfied: sklearn in /usr/local/lib/python3.7/dist-packages (from pdpbox) (0.0)\n",
            "Requirement already satisfied: numpy in /usr/local/lib/python3.7/dist-packages (from pdpbox) (1.21.6)\n",
            "Requirement already satisfied: pandas in /usr/local/lib/python3.7/dist-packages (from pdpbox) (1.3.5)\n",
            "Requirement already satisfied: python-dateutil>=2.1 in /usr/local/lib/python3.7/dist-packages (from matplotlib==3.1.1->pdpbox) (2.8.2)\n",
            "Requirement already satisfied: cycler>=0.10 in /usr/local/lib/python3.7/dist-packages (from matplotlib==3.1.1->pdpbox) (0.11.0)\n",
            "Requirement already satisfied: pyparsing!=2.0.4,!=2.1.2,!=2.1.6,>=2.0.1 in /usr/local/lib/python3.7/dist-packages (from matplotlib==3.1.1->pdpbox) (3.0.9)\n",
            "Requirement already satisfied: kiwisolver>=1.0.1 in /usr/local/lib/python3.7/dist-packages (from matplotlib==3.1.1->pdpbox) (1.4.4)\n",
            "Requirement already satisfied: typing-extensions in /usr/local/lib/python3.7/dist-packages (from kiwisolver>=1.0.1->matplotlib==3.1.1->pdpbox) (4.1.1)\n",
            "Requirement already satisfied: six>=1.5 in /usr/local/lib/python3.7/dist-packages (from python-dateutil>=2.1->matplotlib==3.1.1->pdpbox) (1.15.0)\n",
            "Requirement already satisfied: pytz>=2017.3 in /usr/local/lib/python3.7/dist-packages (from pandas->pdpbox) (2022.2.1)\n",
            "Requirement already satisfied: scikit-learn in /usr/local/lib/python3.7/dist-packages (from sklearn->pdpbox) (1.0.2)\n",
            "Requirement already satisfied: threadpoolctl>=2.0.0 in /usr/local/lib/python3.7/dist-packages (from scikit-learn->sklearn->pdpbox) (3.1.0)\n",
            "Installing collected packages: matplotlib\n",
            "  Attempting uninstall: matplotlib\n",
            "    Found existing installation: matplotlib 3.5.3\n",
            "    Uninstalling matplotlib-3.5.3:\n",
            "      Successfully uninstalled matplotlib-3.5.3\n",
            "\u001b[31mERROR: pip's dependency resolver does not currently take into account all the packages that are installed. This behaviour is the source of the following dependency conflicts.\n",
            "pandas-profiling 3.3.0 requires matplotlib<3.6,>=3.2, but you have matplotlib 3.1.1 which is incompatible.\u001b[0m\n",
            "Successfully installed matplotlib-3.1.1\n"
          ]
        },
        {
          "output_type": "display_data",
          "data": {
            "application/vnd.colab-display-data+json": {
              "pip_warning": {
                "packages": [
                  "matplotlib",
                  "mpl_toolkits"
                ]
              }
            }
          },
          "metadata": {}
        }
      ],
      "source": [
        "!pip install pandas-profiling==3.3.0\n",
        "!pip install category-encoders\n",
        "!pip3 install hyperopt\n",
        "!pip install bayesian-optimization\n",
        "!pip3 install pdpbox"
      ]
    },
    {
      "cell_type": "code",
      "source": [
        "!sudo apt-get install -y fonts-nanum\n",
        "!sudo fc-cache -fv\n",
        "!rm ~/.cache/matplotlib -rf"
      ],
      "metadata": {
        "colab": {
          "base_uri": "https://localhost:8080/"
        },
        "id": "nLYuwPhfmtPM",
        "outputId": "605838b4-22de-498f-a67c-05a404b07d9f"
      },
      "execution_count": 1405,
      "outputs": [
        {
          "output_type": "stream",
          "name": "stdout",
          "text": [
            "Reading package lists... Done\n",
            "Building dependency tree       \n",
            "Reading state information... Done\n",
            "The following package was automatically installed and is no longer required:\n",
            "  libnvidia-common-460\n",
            "Use 'sudo apt autoremove' to remove it.\n",
            "The following NEW packages will be installed:\n",
            "  fonts-nanum\n",
            "0 upgraded, 1 newly installed, 0 to remove and 20 not upgraded.\n",
            "Need to get 9,604 kB of archives.\n",
            "After this operation, 29.5 MB of additional disk space will be used.\n",
            "Get:1 http://archive.ubuntu.com/ubuntu bionic/universe amd64 fonts-nanum all 20170925-1 [9,604 kB]\n",
            "Fetched 9,604 kB in 1s (8,173 kB/s)\n",
            "debconf: unable to initialize frontend: Dialog\n",
            "debconf: (No usable dialog-like program is installed, so the dialog based frontend cannot be used. at /usr/share/perl5/Debconf/FrontEnd/Dialog.pm line 76, <> line 1.)\n",
            "debconf: falling back to frontend: Readline\n",
            "debconf: unable to initialize frontend: Readline\n",
            "debconf: (This frontend requires a controlling tty.)\n",
            "debconf: falling back to frontend: Teletype\n",
            "dpkg-preconfigure: unable to re-open stdin: \n",
            "Selecting previously unselected package fonts-nanum.\n",
            "(Reading database ... 159447 files and directories currently installed.)\n",
            "Preparing to unpack .../fonts-nanum_20170925-1_all.deb ...\n",
            "Unpacking fonts-nanum (20170925-1) ...\n",
            "Setting up fonts-nanum (20170925-1) ...\n",
            "Processing triggers for fontconfig (2.12.6-0ubuntu2) ...\n",
            "/usr/share/fonts: caching, new cache contents: 0 fonts, 1 dirs\n",
            "/usr/share/fonts/truetype: caching, new cache contents: 0 fonts, 3 dirs\n",
            "/usr/share/fonts/truetype/humor-sans: caching, new cache contents: 1 fonts, 0 dirs\n",
            "/usr/share/fonts/truetype/liberation: caching, new cache contents: 16 fonts, 0 dirs\n",
            "/usr/share/fonts/truetype/nanum: caching, new cache contents: 10 fonts, 0 dirs\n",
            "/usr/local/share/fonts: caching, new cache contents: 0 fonts, 0 dirs\n",
            "/root/.local/share/fonts: skipping, no such directory\n",
            "/root/.fonts: skipping, no such directory\n",
            "/var/cache/fontconfig: cleaning cache directory\n",
            "/root/.cache/fontconfig: not cleaning non-existent cache directory\n",
            "/root/.fontconfig: not cleaning non-existent cache directory\n",
            "fc-cache: succeeded\n"
          ]
        }
      ]
    },
    {
      "cell_type": "code",
      "source": [
        "import pandas as pd\n",
        "import numpy as np\n",
        "import pandas_profiling\n",
        "from sklearn.model_selection import train_test_split\n",
        "from category_encoders import OrdinalEncoder\n",
        "from sklearn.impute import SimpleImputer\n",
        "from xgboost import XGBClassifier\n",
        "from sklearn.pipeline import make_pipeline\n",
        "from sklearn.metrics import classification_report\n",
        "%matplotlib inline\n",
        "import matplotlib.pyplot as plt\n",
        "from sklearn.ensemble import RandomForestClassifier\n",
        "from sklearn.metrics import f1_score\n",
        "from sklearn.model_selection import RandomizedSearchCV\n",
        "from scipy.stats.distributions import uniform\n",
        "from sklearn.metrics import confusion_matrix, plot_confusion_matrix\n",
        "from sklearn.tree import DecisionTreeClassifier"
      ],
      "metadata": {
        "id": "slvYH5eGHWy6"
      },
      "execution_count": 2,
      "outputs": []
    },
    {
      "cell_type": "code",
      "source": [
        "from google.colab import files\n",
        "f = files.upload()"
      ],
      "metadata": {
        "colab": {
          "base_uri": "https://localhost:8080/",
          "height": 77
        },
        "id": "HYKeO4XsKNjf",
        "outputId": "7b5b0e1e-6e79-4e0e-aa02-e474e57fa36f"
      },
      "execution_count": 43,
      "outputs": [
        {
          "output_type": "display_data",
          "data": {
            "text/plain": [
              "<IPython.core.display.HTML object>"
            ],
            "text/html": [
              "\n",
              "     <input type=\"file\" id=\"files-a1f3d22b-556f-44eb-8175-edea7f4e4567\" name=\"files[]\" multiple disabled\n",
              "        style=\"border:none\" />\n",
              "     <output id=\"result-a1f3d22b-556f-44eb-8175-edea7f4e4567\">\n",
              "      Upload widget is only available when the cell has been executed in the\n",
              "      current browser session. Please rerun this cell to enable.\n",
              "      </output>\n",
              "      <script>// Copyright 2017 Google LLC\n",
              "//\n",
              "// Licensed under the Apache License, Version 2.0 (the \"License\");\n",
              "// you may not use this file except in compliance with the License.\n",
              "// You may obtain a copy of the License at\n",
              "//\n",
              "//      http://www.apache.org/licenses/LICENSE-2.0\n",
              "//\n",
              "// Unless required by applicable law or agreed to in writing, software\n",
              "// distributed under the License is distributed on an \"AS IS\" BASIS,\n",
              "// WITHOUT WARRANTIES OR CONDITIONS OF ANY KIND, either express or implied.\n",
              "// See the License for the specific language governing permissions and\n",
              "// limitations under the License.\n",
              "\n",
              "/**\n",
              " * @fileoverview Helpers for google.colab Python module.\n",
              " */\n",
              "(function(scope) {\n",
              "function span(text, styleAttributes = {}) {\n",
              "  const element = document.createElement('span');\n",
              "  element.textContent = text;\n",
              "  for (const key of Object.keys(styleAttributes)) {\n",
              "    element.style[key] = styleAttributes[key];\n",
              "  }\n",
              "  return element;\n",
              "}\n",
              "\n",
              "// Max number of bytes which will be uploaded at a time.\n",
              "const MAX_PAYLOAD_SIZE = 100 * 1024;\n",
              "\n",
              "function _uploadFiles(inputId, outputId) {\n",
              "  const steps = uploadFilesStep(inputId, outputId);\n",
              "  const outputElement = document.getElementById(outputId);\n",
              "  // Cache steps on the outputElement to make it available for the next call\n",
              "  // to uploadFilesContinue from Python.\n",
              "  outputElement.steps = steps;\n",
              "\n",
              "  return _uploadFilesContinue(outputId);\n",
              "}\n",
              "\n",
              "// This is roughly an async generator (not supported in the browser yet),\n",
              "// where there are multiple asynchronous steps and the Python side is going\n",
              "// to poll for completion of each step.\n",
              "// This uses a Promise to block the python side on completion of each step,\n",
              "// then passes the result of the previous step as the input to the next step.\n",
              "function _uploadFilesContinue(outputId) {\n",
              "  const outputElement = document.getElementById(outputId);\n",
              "  const steps = outputElement.steps;\n",
              "\n",
              "  const next = steps.next(outputElement.lastPromiseValue);\n",
              "  return Promise.resolve(next.value.promise).then((value) => {\n",
              "    // Cache the last promise value to make it available to the next\n",
              "    // step of the generator.\n",
              "    outputElement.lastPromiseValue = value;\n",
              "    return next.value.response;\n",
              "  });\n",
              "}\n",
              "\n",
              "/**\n",
              " * Generator function which is called between each async step of the upload\n",
              " * process.\n",
              " * @param {string} inputId Element ID of the input file picker element.\n",
              " * @param {string} outputId Element ID of the output display.\n",
              " * @return {!Iterable<!Object>} Iterable of next steps.\n",
              " */\n",
              "function* uploadFilesStep(inputId, outputId) {\n",
              "  const inputElement = document.getElementById(inputId);\n",
              "  inputElement.disabled = false;\n",
              "\n",
              "  const outputElement = document.getElementById(outputId);\n",
              "  outputElement.innerHTML = '';\n",
              "\n",
              "  const pickedPromise = new Promise((resolve) => {\n",
              "    inputElement.addEventListener('change', (e) => {\n",
              "      resolve(e.target.files);\n",
              "    });\n",
              "  });\n",
              "\n",
              "  const cancel = document.createElement('button');\n",
              "  inputElement.parentElement.appendChild(cancel);\n",
              "  cancel.textContent = 'Cancel upload';\n",
              "  const cancelPromise = new Promise((resolve) => {\n",
              "    cancel.onclick = () => {\n",
              "      resolve(null);\n",
              "    };\n",
              "  });\n",
              "\n",
              "  // Wait for the user to pick the files.\n",
              "  const files = yield {\n",
              "    promise: Promise.race([pickedPromise, cancelPromise]),\n",
              "    response: {\n",
              "      action: 'starting',\n",
              "    }\n",
              "  };\n",
              "\n",
              "  cancel.remove();\n",
              "\n",
              "  // Disable the input element since further picks are not allowed.\n",
              "  inputElement.disabled = true;\n",
              "\n",
              "  if (!files) {\n",
              "    return {\n",
              "      response: {\n",
              "        action: 'complete',\n",
              "      }\n",
              "    };\n",
              "  }\n",
              "\n",
              "  for (const file of files) {\n",
              "    const li = document.createElement('li');\n",
              "    li.append(span(file.name, {fontWeight: 'bold'}));\n",
              "    li.append(span(\n",
              "        `(${file.type || 'n/a'}) - ${file.size} bytes, ` +\n",
              "        `last modified: ${\n",
              "            file.lastModifiedDate ? file.lastModifiedDate.toLocaleDateString() :\n",
              "                                    'n/a'} - `));\n",
              "    const percent = span('0% done');\n",
              "    li.appendChild(percent);\n",
              "\n",
              "    outputElement.appendChild(li);\n",
              "\n",
              "    const fileDataPromise = new Promise((resolve) => {\n",
              "      const reader = new FileReader();\n",
              "      reader.onload = (e) => {\n",
              "        resolve(e.target.result);\n",
              "      };\n",
              "      reader.readAsArrayBuffer(file);\n",
              "    });\n",
              "    // Wait for the data to be ready.\n",
              "    let fileData = yield {\n",
              "      promise: fileDataPromise,\n",
              "      response: {\n",
              "        action: 'continue',\n",
              "      }\n",
              "    };\n",
              "\n",
              "    // Use a chunked sending to avoid message size limits. See b/62115660.\n",
              "    let position = 0;\n",
              "    do {\n",
              "      const length = Math.min(fileData.byteLength - position, MAX_PAYLOAD_SIZE);\n",
              "      const chunk = new Uint8Array(fileData, position, length);\n",
              "      position += length;\n",
              "\n",
              "      const base64 = btoa(String.fromCharCode.apply(null, chunk));\n",
              "      yield {\n",
              "        response: {\n",
              "          action: 'append',\n",
              "          file: file.name,\n",
              "          data: base64,\n",
              "        },\n",
              "      };\n",
              "\n",
              "      let percentDone = fileData.byteLength === 0 ?\n",
              "          100 :\n",
              "          Math.round((position / fileData.byteLength) * 100);\n",
              "      percent.textContent = `${percentDone}% done`;\n",
              "\n",
              "    } while (position < fileData.byteLength);\n",
              "  }\n",
              "\n",
              "  // All done.\n",
              "  yield {\n",
              "    response: {\n",
              "      action: 'complete',\n",
              "    }\n",
              "  };\n",
              "}\n",
              "\n",
              "scope.google = scope.google || {};\n",
              "scope.google.colab = scope.google.colab || {};\n",
              "scope.google.colab._files = {\n",
              "  _uploadFiles,\n",
              "  _uploadFilesContinue,\n",
              "};\n",
              "})(self);\n",
              "</script> "
            ]
          },
          "metadata": {}
        },
        {
          "output_type": "stream",
          "name": "stdout",
          "text": [
            "Saving labeled_data.csv to labeled_data (1).csv\n"
          ]
        }
      ]
    },
    {
      "cell_type": "code",
      "source": [
        "df = pd.read_csv('labeled_data.csv')"
      ],
      "metadata": {
        "id": "TVkHsjmqHYiV"
      },
      "execution_count": 3,
      "outputs": []
    },
    {
      "cell_type": "markdown",
      "source": [
        "# **함수 모음**"
      ],
      "metadata": {
        "id": "7re33WayIoWr"
      }
    },
    {
      "cell_type": "code",
      "source": [
        "# 데이터셋 분리\n",
        "def split_data(df,target):\n",
        "  train, test = train_test_split(df, test_size=0.3, stratify=df[target] ,random_state=42)\n",
        "  X_train, y_train = train.drop(columns=target), train[target]\n",
        "  X_test, y_test = test.drop(columns=target), test[target]\n",
        "  return X_train, y_train, X_test, y_test"
      ],
      "metadata": {
        "id": "uHR9yTgnHeEU"
      },
      "execution_count": 4,
      "outputs": []
    },
    {
      "cell_type": "code",
      "source": [
        "pipe = make_pipeline(\n",
        "    OrdinalEncoder(),\n",
        "    SimpleImputer(strategy=\"median\"),\n",
        "    XGBClassifier(\n",
        "        objective=\"binary:logistic\",\n",
        "        eval_metric=\"error\",\n",
        "        n_estimators=200,\n",
        "        random_state=42,\n",
        "        n_jobs=-1,\n",
        "        learning_rate=0.01,\n",
        "        scale_pos_weight=220,\n",
        "        max_depth = 10,\n",
        "        use_label_encoder=False,\n",
        "    ),\n",
        ")"
      ],
      "metadata": {
        "id": "DfofImIONg9H"
      },
      "execution_count": 5,
      "outputs": []
    },
    {
      "cell_type": "code",
      "source": [
        "params = {\n",
        "    \"simpleimputer__strategy\": [\"median\", \"mean\"],\n",
        "    \"xgbclassifier__max_depth\": [2, 4, 6],\n",
        "    \"xgbclassifier__min_child_weight\": [2, 4, 8],\n",
        "    \"xgbclassifier__colsample_bytree\": uniform(\n",
        "        loc=0.5, scale=0.5\n",
        "    ),\n",
        "}"
      ],
      "metadata": {
        "id": "k6mCdRa0o1NV"
      },
      "execution_count": 6,
      "outputs": []
    },
    {
      "cell_type": "code",
      "source": [
        "randomized_search = RandomizedSearchCV(\n",
        "    pipe,\n",
        "    param_distributions=params,\n",
        "    scoring=\"f1\",\n",
        "    n_iter=100,\n",
        "    cv=5,\n",
        "    verbose=3,\n",
        "    random_state=42,\n",
        ")\n",
        "randomized_search.fit('X_train', 'y_train')"
      ],
      "metadata": {
        "id": "_dNh-dUGolgc"
      },
      "execution_count": null,
      "outputs": []
    },
    {
      "cell_type": "code",
      "source": [
        "f1_score('test', 'pred')"
      ],
      "metadata": {
        "id": "6cHFLtDHoScp"
      },
      "execution_count": null,
      "outputs": []
    },
    {
      "cell_type": "code",
      "source": [
        "print(classification_report('test', 'pred'))"
      ],
      "metadata": {
        "id": "8_5olEMoo-p6"
      },
      "execution_count": null,
      "outputs": []
    },
    {
      "cell_type": "code",
      "source": [
        "importances = pd.Series(pipe[2].feature_importances_, 'train.columns')\n",
        "plt.figure(figsize=(5, 10))\n",
        "importances.sort_values().plot.barh();"
      ],
      "metadata": {
        "id": "qScvKGSIpIEc"
      },
      "execution_count": null,
      "outputs": []
    },
    {
      "cell_type": "markdown",
      "source": [
        "# **Profile Report**"
      ],
      "metadata": {
        "id": "nd9qb9ZYIk_W"
      }
    },
    {
      "cell_type": "code",
      "source": [
        "pr = df.profile_report()"
      ],
      "metadata": {
        "id": "cCJoHs7cHeak"
      },
      "execution_count": 6,
      "outputs": []
    },
    {
      "cell_type": "code",
      "source": [
        "pr.to_file('./pr_report.html') # 리포트가 너무 커서 파일로"
      ],
      "metadata": {
        "id": "CiZg6f5VJjYM"
      },
      "execution_count": null,
      "outputs": []
    },
    {
      "cell_type": "code",
      "source": [
        "df.info()"
      ],
      "metadata": {
        "colab": {
          "base_uri": "https://localhost:8080/"
        },
        "id": "jrVeGtW7Jk19",
        "outputId": "0d24b11a-ff35-484a-8e78-19f1d658ae9e"
      },
      "execution_count": 8,
      "outputs": [
        {
          "output_type": "stream",
          "name": "stdout",
          "text": [
            "<class 'pandas.core.frame.DataFrame'>\n",
            "RangeIndex: 7996 entries, 0 to 7995\n",
            "Data columns (total 45 columns):\n",
            " #   Column                    Non-Null Count  Dtype  \n",
            "---  ------                    --------------  -----  \n",
            " 0   _id                       7996 non-null   object \n",
            " 1   TimeStamp                 7996 non-null   object \n",
            " 2   PART_FACT_PLAN_DATE       7996 non-null   object \n",
            " 3   PART_FACT_SERIAL          7996 non-null   int64  \n",
            " 4   PART_NAME                 7996 non-null   object \n",
            " 5   EQUIP_CD                  7996 non-null   object \n",
            " 6   EQUIP_NAME                7996 non-null   object \n",
            " 7   PassOrFail                7996 non-null   object \n",
            " 8   Reason                    7996 non-null   object \n",
            " 9   Injection_Time            7996 non-null   float64\n",
            " 10  Filling_Time              7996 non-null   float64\n",
            " 11  Plasticizing_Time         7996 non-null   float64\n",
            " 12  Cycle_Time                7996 non-null   float64\n",
            " 13  Clamp_Close_Time          7996 non-null   float64\n",
            " 14  Cushion_Position          7996 non-null   float64\n",
            " 15  Switch_Over_Position      7996 non-null   float64\n",
            " 16  Plasticizing_Position     7996 non-null   float64\n",
            " 17  Clamp_Open_Position       7996 non-null   float64\n",
            " 18  Max_Injection_Speed       7996 non-null   float64\n",
            " 19  Max_Screw_RPM             7996 non-null   float64\n",
            " 20  Average_Screw_RPM         7996 non-null   float64\n",
            " 21  Max_Injection_Pressure    7996 non-null   float64\n",
            " 22  Max_Switch_Over_Pressure  7996 non-null   float64\n",
            " 23  Max_Back_Pressure         7996 non-null   float64\n",
            " 24  Average_Back_Pressure     7996 non-null   float64\n",
            " 25  Barrel_Temperature_1      7996 non-null   float64\n",
            " 26  Barrel_Temperature_2      7996 non-null   float64\n",
            " 27  Barrel_Temperature_3      7996 non-null   float64\n",
            " 28  Barrel_Temperature_4      7996 non-null   float64\n",
            " 29  Barrel_Temperature_5      7996 non-null   float64\n",
            " 30  Barrel_Temperature_6      7996 non-null   float64\n",
            " 31  Barrel_Temperature_7      7996 non-null   float64\n",
            " 32  Hopper_Temperature        7996 non-null   float64\n",
            " 33  Mold_Temperature_1        7996 non-null   float64\n",
            " 34  Mold_Temperature_2        7996 non-null   float64\n",
            " 35  Mold_Temperature_3        7996 non-null   float64\n",
            " 36  Mold_Temperature_4        7996 non-null   float64\n",
            " 37  Mold_Temperature_5        7996 non-null   float64\n",
            " 38  Mold_Temperature_6        7996 non-null   float64\n",
            " 39  Mold_Temperature_7        7996 non-null   float64\n",
            " 40  Mold_Temperature_8        7996 non-null   float64\n",
            " 41  Mold_Temperature_9        7996 non-null   float64\n",
            " 42  Mold_Temperature_10       7996 non-null   float64\n",
            " 43  Mold_Temperature_11       7996 non-null   float64\n",
            " 44  Mold_Temperature_12       7996 non-null   float64\n",
            "dtypes: float64(36), int64(1), object(8)\n",
            "memory usage: 2.7+ MB\n"
          ]
        }
      ]
    },
    {
      "cell_type": "markdown",
      "source": [
        "# **Feature 분석 및 특성 공학**"
      ],
      "metadata": {
        "id": "68vOm89lIHIZ"
      }
    },
    {
      "cell_type": "markdown",
      "source": [
        "id 제조 공정 id -\n",
        "\n",
        "TimeStamp 시간( YY:HH:MM:SS) -\n",
        "\n",
        "PART_FACT_PLAN_DATE 생산을 지시한 날짜 -\n",
        "\n",
        "PART_FACT_SERIAL 생산을 지시한 품목에 대한 코드부여 -\n",
        "\n",
        "PART_NO* 제품의 모델코드 -\n",
        "\n",
        "PART_NAME 제품의 이름 -\n",
        "\n",
        "EQUIP_CD 생산한 사출기 호기 -\n",
        "\n",
        "EQUIP_NAME 생산한 사출기 모델명 -\n",
        "\n",
        "PassOrFail** 사출되는 각 물품마다 검수자가 양품 선별을 하여 붙이는 레이블 값 0 : 불\n",
        "1 : 합\n",
        "\n",
        "Reason** 검수자가 양품선별 시, 불량으로 확인된 제품에 대해 불량 유형을 나타냄 Unlabeled 에서는\n",
        "확인불가\n",
        "\n",
        "ERR_FACT_QTY 생산시 발생한 불량의 개수 수량 (개)\n",
        "\n",
        "Injection_Time 고압+사출시간(고압(사출압) : 재료를 금형에 유입시킬때의 압력), 사출\n",
        "시간 : 재료를 금형에 유입시키는데 소요되는 시간) Sec (초)\n",
        "\n",
        "Filling_Time 충진시간으로 사출기에서 금형으로 내용물이 주입되는 시간 Sec (초)\n",
        "\n",
        "Plasticizing_Time 계량시간으로 재료를 스크류에 1번 생산할 만큼 용융되어 저장되는 시간 Sec (초)\n",
        "\n",
        "Cycle_Time 1번의 제품생산에 소요되는 생산시간 Sec (초)\n",
        "\n",
        "Clamp_Close_Time 제품이 생산되고 난후 열려있는 금형을 사출기가 닫아주고 빈틈이 없이\n",
        "고정축과 이동축을 꽉 잡아주는데 걸리는 시간 Sec (초)\n",
        "\n",
        "Cushion_Position 보압(사출압의 다음으로 가해지는 압력(금형내부압력을 조절하여 과충전\n",
        "을 방지))을 하기위한 스크류의 위치 mm\n",
        "\n",
        "Switch_Over_Position 고압,보압절환위치(고압(사출압)에서 보압으로 진행될때의 위치)) mm\n",
        "\n",
        "Plasticizing_Position 계량완료위치(계량을 마친 스크류의 위치) mm\n",
        "\n",
        "Clamp_Open_Position 제품이 생산되어 추출하기위해 금형이 열리고 난 위치 mm\n",
        "\n",
        "Max_Injection_Speed 배럴에 계량되어 있는 용융수지가 금형으로 흘러들어가는데 측정되는 최대속도 mm/s\n",
        "\n",
        "Max_Screw_RPM 사출을 위한 스크류의 최대속도 mm/s\n",
        "\n",
        "Average_Screw_RPM 사출을 위한 스크류의 평균속도 mm/s\n",
        "\n",
        "Max_Injection_Pressure 배럴에 계량되어 있는 용융수지가 금형으로 흘러들어가는데 가해지는 최대압력 MPa\n",
        "\n",
        "Max_Switch_Over_\n",
        "Pressure 사출에서 보압(충진된 수지가 밀리지않게 압력을준다)으로 변환되는 압력 MPa\n",
        "\n",
        "Max_Back_Pressure 수지가 계량이 되는중에 스크류가 밀려나는 현상을 저지하기위한 최대압력 MPa\n",
        "\n",
        "Average_Back_Pressure 수지가 계량이 되는중에 스크류가 밀려나는 현상을 저지하기위한 평균압력 MPa\n",
        "\n",
        "Barrel_Temperature_1~7\n",
        "계량 및 사출시 수지가 일정하게 용융(녹임)을 유지하기위해 온도가 일정\n",
        "해야한다\n",
        "섭씨 (°C)\n",
        "\n",
        "Hopper_Temperature 재료주입구의 온도(충분히 건조시켜주며 재료가 용융되는시간을 절약시\n",
        "켜주기위해 온도가 높아야한다) 섭씨 (°C)\n",
        "\n",
        "Mold_Temperature_1~12\n",
        "재료주입구의 온도(충분히 건조시켜주며 재료가 용융되는시간을 절약시\n",
        "켜주기위해 온도가 높아야한다)\n",
        "섭씨 (°C)"
      ],
      "metadata": {
        "id": "OX4cG2RKHoOK"
      }
    },
    {
      "cell_type": "code",
      "source": [
        "reason = df.Reason\n",
        "mo_drop_list = ['_id', 'TimeStamp', 'PART_FACT_PLAN_DATE', 'PART_FACT_SERIAL','EQUIP_NAME', 'Reason']\n",
        "df_mo = df.drop(mo_drop_list, axis=1)\n",
        "reason[reason != 'None'].value_counts() # 결함별 특성 중요도를 확인하기 위해서 따로 학습"
      ],
      "metadata": {
        "colab": {
          "base_uri": "https://localhost:8080/"
        },
        "id": "MdJo5Fl-Hp-F",
        "outputId": "a40879a0-b730-46dd-ac6d-2bae19756500"
      },
      "execution_count": 7,
      "outputs": [
        {
          "output_type": "execute_result",
          "data": {
            "text/plain": [
              "가스        35\n",
              "초기허용불량    20\n",
              "미성형       16\n",
              "Name: Reason, dtype: int64"
            ]
          },
          "metadata": {},
          "execution_count": 7
        }
      ]
    },
    {
      "cell_type": "code",
      "source": [
        "x = np.arange(3)\n",
        "reason_4_list = ['가스', '초기허용불량', '미성형']\n",
        "values = [35, 20, 16]\n",
        "plt.figure(figsize=(10, 7))\n",
        "plt.rc('font', family='NanumBarunGothic') \n",
        "plt.bar(x, values, width=0.4)\n",
        "plt.xticks(x, reason_4_list);"
      ],
      "metadata": {
        "colab": {
          "base_uri": "https://localhost:8080/",
          "height": 428
        },
        "id": "vzl0q7iwmUML",
        "outputId": "c7f982ac-7801-4fee-ee7c-2b5997a9ae6e"
      },
      "execution_count": 17,
      "outputs": [
        {
          "output_type": "display_data",
          "data": {
            "text/plain": [
              "<Figure size 720x504 with 1 Axes>"
            ],
            "image/png": "[encoded data removed]"
          },
          "metadata": {
            "needs_background": "light"
          }
        }
      ]
    },
    {
      "cell_type": "code",
      "source": [
        "df_mo.PART_NAME.value_counts() # 총 6개의 부품을 제작중\n",
        "# 하단의 2개는 학습에 필요없다 판단하여 삭제"
      ],
      "metadata": {
        "colab": {
          "base_uri": "https://localhost:8080/"
        },
        "id": "nICUSFGvLWAn",
        "outputId": "deba3dc6-3e28-42f7-9452-b709ecd741d0"
      },
      "execution_count": 14,
      "outputs": [
        {
          "output_type": "execute_result",
          "data": {
            "text/plain": [
              "CN7 W/S SIDE MLD'G RH        3371\n",
              "CN7 W/S SIDE MLD'G LH        3365\n",
              "RG3 MOLD'G W/SHLD, LH         628\n",
              "RG3 MOLD'G W/SHLD, RH         628\n",
              "SP2 CVR ROOF RACK CTR, RH       2\n",
              "JX1 W/S SIDE MLD'G RH           2\n",
              "Name: PART_NAME, dtype: int64"
            ]
          },
          "metadata": {},
          "execution_count": 14
        }
      ]
    },
    {
      "cell_type": "code",
      "source": [
        "x = np.arange(4)\n",
        "reason_4_list = [\"CN7 W/S SIDE MLD'G RH\", \"CN7 W/S SIDE MLD'G LH\", \"RG3 MOLD'G W/SHLD, LH\", \"RG3 MOLD'G W/SHLD, RH\"]\n",
        "values = [3371, 3365, 628, 628]\n",
        "plt.figure(figsize=(10, 7))\n",
        "plt.rc('font', family='NanumBarunGothic') \n",
        "plt.bar(x, values, width=0.4)\n",
        "plt.xticks(x, reason_4_list);"
      ],
      "metadata": {
        "colab": {
          "base_uri": "https://localhost:8080/",
          "height": 428
        },
        "id": "6ZNFM1hRoPrz",
        "outputId": "cba8076d-e61c-4868-90e6-012453199060"
      },
      "execution_count": 16,
      "outputs": [
        {
          "output_type": "display_data",
          "data": {
            "text/plain": [
              "<Figure size 720x504 with 1 Axes>"
            ],
            "image/png": "[encoded data removed]"
          },
          "metadata": {
            "needs_background": "light"
          }
        }
      ]
    },
    {
      "cell_type": "code",
      "source": [
        "df_mo = df_mo.drop(df[df.EQUIP_NAME == '1800TON-우진'].index).drop(df[df.EQUIP_NAME == '650톤-우진'].index)"
      ],
      "metadata": {
        "id": "J1cHEVNgMWpN"
      },
      "execution_count": 21,
      "outputs": []
    },
    {
      "cell_type": "code",
      "source": [
        "df_mo.PassOrFail = df_mo.PassOrFail.replace('Y',1).replace('N',0).astype(int) # PassOrFail 1,0으로 치환"
      ],
      "metadata": {
        "id": "mgzTKNQOKSN1"
      },
      "execution_count": 22,
      "outputs": []
    },
    {
      "cell_type": "code",
      "source": [
        "reason_1_index = df_mo[reason == '가스'].index\n",
        "reason_2_index = df_mo[reason == '초기허용불량'].index\n",
        "reason_3_index = df_mo[reason == '미성형'].index"
      ],
      "metadata": {
        "id": "KaW5YzWKKUht"
      },
      "execution_count": 23,
      "outputs": []
    },
    {
      "cell_type": "code",
      "source": [
        "df_mo_1 = df_mo.copy().drop(reason_2_index).drop(reason_3_index) # 나머지 불량 원인을 제외하고 학습\n",
        "df_mo_2 = df_mo.copy().drop(reason_1_index).drop(reason_3_index)\n",
        "df_mo_3 = df_mo.copy().drop(reason_1_index).drop(reason_2_index)"
      ],
      "metadata": {
        "id": "xPCvbo2KKaFc"
      },
      "execution_count": 24,
      "outputs": []
    },
    {
      "cell_type": "code",
      "source": [
        "mo_target = 'PassOrFail'"
      ],
      "metadata": {
        "id": "nZ04lijrKTmg"
      },
      "execution_count": 25,
      "outputs": []
    },
    {
      "cell_type": "markdown",
      "source": [
        "# **가스 불량 분석**"
      ],
      "metadata": {
        "id": "5jbwRstjLHJZ"
      }
    },
    {
      "cell_type": "markdown",
      "source": [
        "GAS 불량 발생원인\n",
        "1. **사출압이 높거나 속도가 빠른 경우**\n",
        "2. 금형 표면에 수분이나 휘발분이 있을 경우\n",
        "3. **수지온도나 금형온도가 너무 낮은 경우**\n",
        "4. 재생 RESIN 사용에 의한 경우\n",
        "5. RESIN 건조불량으로 수분 함유량이 높은 경우\n",
        "6. 금형의 GAS 빼기 불량\n",
        "7. 수지의 열분해에 의한 경우\n",
        "8. 게이트 위치 불량\n",
        "9. 금형면에 수분이나 윤활제가 있는 경우\n",
        "10. 계량 시 공기 흡인으로 인한 경우\n",
        "11. 사출 조건에서 계량량이 많은 경우\n",
        "\n",
        "기계, 금형, 재료 등 모든 곳에서 발생할 수가 있고, GAS, 흑점 등이 불량 점유율 1,2위를 차지하고 있음. 여러 원인이 있기 때문에 현실적으로 이를 모두 예측 가능한 모델을 만들수 없음.\n",
        "고로 데이터셋에 수치가 있는 금형온도에 대한 모델을 만들어 금형온도가 낮거나 사출압이 높거나 속도가 빠른 경우 발생하는 가스 불량에 대해 분석"
      ],
      "metadata": {
        "id": "_U-JKC5mcJlV"
      }
    },
    {
      "cell_type": "code",
      "source": [
        "df_mo.loc[reason_1_index].PART_NAME.value_counts() # 두가지 부품이 나뉘어 있다."
      ],
      "metadata": {
        "colab": {
          "base_uri": "https://localhost:8080/"
        },
        "id": "frmADSOpLM5T",
        "outputId": "86eb0de0-91dd-4c28-cd52-e925a6df2b79"
      },
      "execution_count": 26,
      "outputs": [
        {
          "output_type": "execute_result",
          "data": {
            "text/plain": [
              "RG3 MOLD'G W/SHLD, RH    19\n",
              "CN7 W/S SIDE MLD'G RH    10\n",
              "CN7 W/S SIDE MLD'G LH     3\n",
              "RG3 MOLD'G W/SHLD, LH     3\n",
              "Name: PART_NAME, dtype: int64"
            ]
          },
          "metadata": {},
          "execution_count": 26
        }
      ]
    },
    {
      "cell_type": "code",
      "source": [
        "df_mo_1.describe() # 모든값이 0인 특성은 삭제"
      ],
      "metadata": {
        "colab": {
          "base_uri": "https://localhost:8080/",
          "height": 393
        },
        "id": "tgSc0iZvP_LS",
        "outputId": "131d18a2-2a09-4103-b9ff-3cbde5a085f7"
      },
      "execution_count": 62,
      "outputs": [
        {
          "output_type": "execute_result",
          "data": {
            "text/plain": [
              "        PassOrFail  Injection_Time  Filling_Time  Plasticizing_Time  \\\n",
              "count  7956.000000     7956.000000   7956.000000        7956.000000   \n",
              "mean      0.995601        8.242143      3.894671          16.212098   \n",
              "std       0.066185        3.097632      1.277360           1.437988   \n",
              "min       0.000000        1.050000      0.930000          12.800000   \n",
              "25%       1.000000        9.520000      4.400000          16.580000   \n",
              "50%       1.000000        9.560000      4.440000          16.799999   \n",
              "75%       1.000000        9.590000      4.470000          16.889999   \n",
              "max       1.000000       11.480000      4.820000          21.100000   \n",
              "\n",
              "        Cycle_Time  Clamp_Close_Time  Cushion_Position  Switch_Over_Position  \\\n",
              "count  7956.000000       7956.000000       7956.000000           7956.000000   \n",
              "mean     59.894416          7.064746        653.568039              0.329467   \n",
              "std       0.873840          0.133029          0.313638             14.690869   \n",
              "min      58.840000          6.070000        653.400024              0.000000   \n",
              "25%      59.520000          7.110000        653.429993              0.000000   \n",
              "50%      59.520000          7.120000        653.440002              0.000000   \n",
              "75%      59.560001          7.120000        653.450012              0.000000   \n",
              "max      64.349998          7.140000        655.000000            655.309998   \n",
              "\n",
              "       Plasticizing_Position  Clamp_Open_Position  ...  Average_Back_Pressure  \\\n",
              "count            7956.000000          7956.000000  ...            7956.000000   \n",
              "mean               66.063724           544.615537  ...              59.576571   \n",
              "std                 5.410905           235.918579  ...               3.243286   \n",
              "min                53.549999             4.630000  ...              13.300000   \n",
              "25%                68.250000           647.989990  ...              59.400002   \n",
              "50%                68.339996           647.989990  ...              59.599998   \n",
              "75%                68.489998           647.989990  ...              59.900002   \n",
              "max                68.860001           647.989990  ...              90.800003   \n",
              "\n",
              "       Barrel_Temperature_1  Barrel_Temperature_2  Barrel_Temperature_3  \\\n",
              "count           7956.000000           7956.000000           7956.000000   \n",
              "mean             277.529060            276.710784            276.446003   \n",
              "std                4.206546              4.052200              4.066159   \n",
              "min              244.699997            249.000000            249.600006   \n",
              "25%              275.899994            275.000000            274.899994   \n",
              "50%              276.200012            275.399994            275.000000   \n",
              "75%              276.600006            275.700012            275.399994   \n",
              "max              287.100006            286.500000            285.799988   \n",
              "\n",
              "       Barrel_Temperature_4  Barrel_Temperature_5  Barrel_Temperature_6  \\\n",
              "count           7956.000000           7956.000000           7956.000000   \n",
              "mean             271.079450            256.502514            230.755481   \n",
              "std                2.630901              3.813239              1.861722   \n",
              "min              244.399994            239.699997            224.600006   \n",
              "25%              269.799988            254.899994            229.899994   \n",
              "50%              270.700012            255.000000            230.100006   \n",
              "75%              271.399994            255.399994            230.199997   \n",
              "max              276.799988            266.399994            235.500000   \n",
              "\n",
              "       Hopper_Temperature  Mold_Temperature_3  Mold_Temperature_4  \n",
              "count         7956.000000         7956.000000         7956.000000  \n",
              "mean            66.489052           22.153544           23.530241  \n",
              "std              2.313213            1.120896            1.301359  \n",
              "min             38.500000           19.100000           20.600000  \n",
              "25%             65.400002           21.400000           22.700001  \n",
              "50%             66.699997           22.000000           23.400000  \n",
              "75%             67.599998           22.900000           24.200001  \n",
              "max             70.599998           25.299999           27.799999  \n",
              "\n",
              "[8 rows x 26 columns]"
            ],
            "text/html": [
              "\n",
              "  <div id=\"df-f9f1b72d-fc6d-4746-80e0-b57251e8c19d\">\n",
              "    <div class=\"colab-df-container\">\n",
              "      <div>\n",
              "<style scoped>\n",
              "    .dataframe tbody tr th:only-of-type {\n",
              "        vertical-align: middle;\n",
              "    }\n",
              "\n",
              "    .dataframe tbody tr th {\n",
              "        vertical-align: top;\n",
              "    }\n",
              "\n",
              "    .dataframe thead th {\n",
              "        text-align: right;\n",
              "    }\n",
              "</style>\n",
              "<table border=\"1\" class=\"dataframe\">\n",
              "  <thead>\n",
              "    <tr style=\"text-align: right;\">\n",
              "      <th></th>\n",
              "      <th>PassOrFail</th>\n",
              "      <th>Injection_Time</th>\n",
              "      <th>Filling_Time</th>\n",
              "      <th>Plasticizing_Time</th>\n",
              "      <th>Cycle_Time</th>\n",
              "      <th>Clamp_Close_Time</th>\n",
              "      <th>Cushion_Position</th>\n",
              "      <th>Switch_Over_Position</th>\n",
              "      <th>Plasticizing_Position</th>\n",
              "      <th>Clamp_Open_Position</th>\n",
              "      <th>...</th>\n",
              "      <th>Average_Back_Pressure</th>\n",
              "      <th>Barrel_Temperature_1</th>\n",
              "      <th>Barrel_Temperature_2</th>\n",
              "      <th>Barrel_Temperature_3</th>\n",
              "      <th>Barrel_Temperature_4</th>\n",
              "      <th>Barrel_Temperature_5</th>\n",
              "      <th>Barrel_Temperature_6</th>\n",
              "      <th>Hopper_Temperature</th>\n",
              "      <th>Mold_Temperature_3</th>\n",
              "      <th>Mold_Temperature_4</th>\n",
              "    </tr>\n",
              "  </thead>\n",
              "  <tbody>\n",
              "    <tr>\n",
              "      <th>count</th>\n",
              "      <td>7956.000000</td>\n",
              "      <td>7956.000000</td>\n",
              "      <td>7956.000000</td>\n",
              "      <td>7956.000000</td>\n",
              "      <td>7956.000000</td>\n",
              "      <td>7956.000000</td>\n",
              "      <td>7956.000000</td>\n",
              "      <td>7956.000000</td>\n",
              "      <td>7956.000000</td>\n",
              "      <td>7956.000000</td>\n",
              "      <td>...</td>\n",
              "      <td>7956.000000</td>\n",
              "      <td>7956.000000</td>\n",
              "      <td>7956.000000</td>\n",
              "      <td>7956.000000</td>\n",
              "      <td>7956.000000</td>\n",
              "      <td>7956.000000</td>\n",
              "      <td>7956.000000</td>\n",
              "      <td>7956.000000</td>\n",
              "      <td>7956.000000</td>\n",
              "      <td>7956.000000</td>\n",
              "    </tr>\n",
              "    <tr>\n",
              "      <th>mean</th>\n",
              "      <td>0.995601</td>\n",
              "      <td>8.242143</td>\n",
              "      <td>3.894671</td>\n",
              "      <td>16.212098</td>\n",
              "      <td>59.894416</td>\n",
              "      <td>7.064746</td>\n",
              "      <td>653.568039</td>\n",
              "      <td>0.329467</td>\n",
              "      <td>66.063724</td>\n",
              "      <td>544.615537</td>\n",
              "      <td>...</td>\n",
              "      <td>59.576571</td>\n",
              "      <td>277.529060</td>\n",
              "      <td>276.710784</td>\n",
              "      <td>276.446003</td>\n",
              "      <td>271.079450</td>\n",
              "      <td>256.502514</td>\n",
              "      <td>230.755481</td>\n",
              "      <td>66.489052</td>\n",
              "      <td>22.153544</td>\n",
              "      <td>23.530241</td>\n",
              "    </tr>\n",
              "    <tr>\n",
              "      <th>std</th>\n",
              "      <td>0.066185</td>\n",
              "      <td>3.097632</td>\n",
              "      <td>1.277360</td>\n",
              "      <td>1.437988</td>\n",
              "      <td>0.873840</td>\n",
              "      <td>0.133029</td>\n",
              "      <td>0.313638</td>\n",
              "      <td>14.690869</td>\n",
              "      <td>5.410905</td>\n",
              "      <td>235.918579</td>\n",
              "      <td>...</td>\n",
              "      <td>3.243286</td>\n",
              "      <td>4.206546</td>\n",
              "      <td>4.052200</td>\n",
              "      <td>4.066159</td>\n",
              "      <td>2.630901</td>\n",
              "      <td>3.813239</td>\n",
              "      <td>1.861722</td>\n",
              "      <td>2.313213</td>\n",
              "      <td>1.120896</td>\n",
              "      <td>1.301359</td>\n",
              "    </tr>\n",
              "    <tr>\n",
              "      <th>min</th>\n",
              "      <td>0.000000</td>\n",
              "      <td>1.050000</td>\n",
              "      <td>0.930000</td>\n",
              "      <td>12.800000</td>\n",
              "      <td>58.840000</td>\n",
              "      <td>6.070000</td>\n",
              "      <td>653.400024</td>\n",
              "      <td>0.000000</td>\n",
              "      <td>53.549999</td>\n",
              "      <td>4.630000</td>\n",
              "      <td>...</td>\n",
              "      <td>13.300000</td>\n",
              "      <td>244.699997</td>\n",
              "      <td>249.000000</td>\n",
              "      <td>249.600006</td>\n",
              "      <td>244.399994</td>\n",
              "      <td>239.699997</td>\n",
              "      <td>224.600006</td>\n",
              "      <td>38.500000</td>\n",
              "      <td>19.100000</td>\n",
              "      <td>20.600000</td>\n",
              "    </tr>\n",
              "    <tr>\n",
              "      <th>25%</th>\n",
              "      <td>1.000000</td>\n",
              "      <td>9.520000</td>\n",
              "      <td>4.400000</td>\n",
              "      <td>16.580000</td>\n",
              "      <td>59.520000</td>\n",
              "      <td>7.110000</td>\n",
              "      <td>653.429993</td>\n",
              "      <td>0.000000</td>\n",
              "      <td>68.250000</td>\n",
              "      <td>647.989990</td>\n",
              "      <td>...</td>\n",
              "      <td>59.400002</td>\n",
              "      <td>275.899994</td>\n",
              "      <td>275.000000</td>\n",
              "      <td>274.899994</td>\n",
              "      <td>269.799988</td>\n",
              "      <td>254.899994</td>\n",
              "      <td>229.899994</td>\n",
              "      <td>65.400002</td>\n",
              "      <td>21.400000</td>\n",
              "      <td>22.700001</td>\n",
              "    </tr>\n",
              "    <tr>\n",
              "      <th>50%</th>\n",
              "      <td>1.000000</td>\n",
              "      <td>9.560000</td>\n",
              "      <td>4.440000</td>\n",
              "      <td>16.799999</td>\n",
              "      <td>59.520000</td>\n",
              "      <td>7.120000</td>\n",
              "      <td>653.440002</td>\n",
              "      <td>0.000000</td>\n",
              "      <td>68.339996</td>\n",
              "      <td>647.989990</td>\n",
              "      <td>...</td>\n",
              "      <td>59.599998</td>\n",
              "      <td>276.200012</td>\n",
              "      <td>275.399994</td>\n",
              "      <td>275.000000</td>\n",
              "      <td>270.700012</td>\n",
              "      <td>255.000000</td>\n",
              "      <td>230.100006</td>\n",
              "      <td>66.699997</td>\n",
              "      <td>22.000000</td>\n",
              "      <td>23.400000</td>\n",
              "    </tr>\n",
              "    <tr>\n",
              "      <th>75%</th>\n",
              "      <td>1.000000</td>\n",
              "      <td>9.590000</td>\n",
              "      <td>4.470000</td>\n",
              "      <td>16.889999</td>\n",
              "      <td>59.560001</td>\n",
              "      <td>7.120000</td>\n",
              "      <td>653.450012</td>\n",
              "      <td>0.000000</td>\n",
              "      <td>68.489998</td>\n",
              "      <td>647.989990</td>\n",
              "      <td>...</td>\n",
              "      <td>59.900002</td>\n",
              "      <td>276.600006</td>\n",
              "      <td>275.700012</td>\n",
              "      <td>275.399994</td>\n",
              "      <td>271.399994</td>\n",
              "      <td>255.399994</td>\n",
              "      <td>230.199997</td>\n",
              "      <td>67.599998</td>\n",
              "      <td>22.900000</td>\n",
              "      <td>24.200001</td>\n",
              "    </tr>\n",
              "    <tr>\n",
              "      <th>max</th>\n",
              "      <td>1.000000</td>\n",
              "      <td>11.480000</td>\n",
              "      <td>4.820000</td>\n",
              "      <td>21.100000</td>\n",
              "      <td>64.349998</td>\n",
              "      <td>7.140000</td>\n",
              "      <td>655.000000</td>\n",
              "      <td>655.309998</td>\n",
              "      <td>68.860001</td>\n",
              "      <td>647.989990</td>\n",
              "      <td>...</td>\n",
              "      <td>90.800003</td>\n",
              "      <td>287.100006</td>\n",
              "      <td>286.500000</td>\n",
              "      <td>285.799988</td>\n",
              "      <td>276.799988</td>\n",
              "      <td>266.399994</td>\n",
              "      <td>235.500000</td>\n",
              "      <td>70.599998</td>\n",
              "      <td>25.299999</td>\n",
              "      <td>27.799999</td>\n",
              "    </tr>\n",
              "  </tbody>\n",
              "</table>\n",
              "<p>8 rows × 26 columns</p>\n",
              "</div>\n",
              "      <button class=\"colab-df-convert\" onclick=\"convertToInteractive('df-f9f1b72d-fc6d-4746-80e0-b57251e8c19d')\"\n",
              "              title=\"Convert this dataframe to an interactive table.\"\n",
              "              style=\"display:none;\">\n",
              "        \n",
              "  <svg xmlns=\"http://www.w3.org/2000/svg\" height=\"24px\"viewBox=\"0 0 24 24\"\n",
              "       width=\"24px\">\n",
              "    <path d=\"M0 0h24v24H0V0z\" fill=\"none\"/>\n",
              "    <path d=\"M18.56 5.44l.94 2.06.94-2.06 2.06-.94-2.06-.94-.94-2.06-.94 2.06-2.06.94zm-11 1L8.5 8.5l.94-2.06 2.06-.94-2.06-.94L8.5 2.5l-.94 2.06-2.06.94zm10 10l.94 2.06.94-2.06 2.06-.94-2.06-.94-.94-2.06-.94 2.06-2.06.94z\"/><path d=\"M17.41 7.96l-1.37-1.37c-.4-.4-.92-.59-1.43-.59-.52 0-1.04.2-1.43.59L10.3 9.45l-7.72 7.72c-.78.78-.78 2.05 0 2.83L4 21.41c.39.39.9.59 1.41.59.51 0 1.02-.2 1.41-.59l7.78-7.78 2.81-2.81c.8-.78.8-2.07 0-2.86zM5.41 20L4 18.59l7.72-7.72 1.47 1.35L5.41 20z\"/>\n",
              "  </svg>\n",
              "      </button>\n",
              "      \n",
              "  <style>\n",
              "    .colab-df-container {\n",
              "      display:flex;\n",
              "      flex-wrap:wrap;\n",
              "      gap: 12px;\n",
              "    }\n",
              "\n",
              "    .colab-df-convert {\n",
              "      background-color: #E8F0FE;\n",
              "      border: none;\n",
              "      border-radius: 50%;\n",
              "      cursor: pointer;\n",
              "      display: none;\n",
              "      fill: #1967D2;\n",
              "      height: 32px;\n",
              "      padding: 0 0 0 0;\n",
              "      width: 32px;\n",
              "    }\n",
              "\n",
              "    .colab-df-convert:hover {\n",
              "      background-color: #E2EBFA;\n",
              "      box-shadow: 0px 1px 2px rgba(60, 64, 67, 0.3), 0px 1px 3px 1px rgba(60, 64, 67, 0.15);\n",
              "      fill: #174EA6;\n",
              "    }\n",
              "\n",
              "    [theme=dark] .colab-df-convert {\n",
              "      background-color: #3B4455;\n",
              "      fill: #D2E3FC;\n",
              "    }\n",
              "\n",
              "    [theme=dark] .colab-df-convert:hover {\n",
              "      background-color: #434B5C;\n",
              "      box-shadow: 0px 1px 3px 1px rgba(0, 0, 0, 0.15);\n",
              "      filter: drop-shadow(0px 1px 2px rgba(0, 0, 0, 0.3));\n",
              "      fill: #FFFFFF;\n",
              "    }\n",
              "  </style>\n",
              "\n",
              "      <script>\n",
              "        const buttonEl =\n",
              "          document.querySelector('#df-f9f1b72d-fc6d-4746-80e0-b57251e8c19d button.colab-df-convert');\n",
              "        buttonEl.style.display =\n",
              "          google.colab.kernel.accessAllowed ? 'block' : 'none';\n",
              "\n",
              "        async function convertToInteractive(key) {\n",
              "          const element = document.querySelector('#df-f9f1b72d-fc6d-4746-80e0-b57251e8c19d');\n",
              "          const dataTable =\n",
              "            await google.colab.kernel.invokeFunction('convertToInteractive',\n",
              "                                                     [key], {});\n",
              "          if (!dataTable) return;\n",
              "\n",
              "          const docLinkHtml = 'Like what you see? Visit the ' +\n",
              "            '<a target=\"_blank\" href=https://colab.research.google.com/notebooks/data_table.ipynb>data table notebook</a>'\n",
              "            + ' to learn more about interactive tables.';\n",
              "          element.innerHTML = '';\n",
              "          dataTable['output_type'] = 'display_data';\n",
              "          await google.colab.output.renderOutput(dataTable, element);\n",
              "          const docLink = document.createElement('div');\n",
              "          docLink.innerHTML = docLinkHtml;\n",
              "          element.appendChild(docLink);\n",
              "        }\n",
              "      </script>\n",
              "    </div>\n",
              "  </div>\n",
              "  "
            ]
          },
          "metadata": {},
          "execution_count": 62
        }
      ]
    },
    {
      "cell_type": "code",
      "source": [
        "df_mo_1 = df_mo_1.drop(['Barrel_Temperature_7','Mold_Temperature_1', 'Mold_Temperature_2','Mold_Temperature_5', 'Mold_Temperature_6',\n",
        "       'Mold_Temperature_7', 'Mold_Temperature_8', 'Mold_Temperature_9',\n",
        "       'Mold_Temperature_10', 'Mold_Temperature_11', 'Mold_Temperature_12'],axis=1)"
      ],
      "metadata": {
        "id": "mi_fU_ZBRGiU"
      },
      "execution_count": 27,
      "outputs": []
    },
    {
      "cell_type": "code",
      "source": [
        "df_mo_1.columns"
      ],
      "metadata": {
        "colab": {
          "base_uri": "https://localhost:8080/"
        },
        "id": "6nO_fZLPQ-CP",
        "outputId": "b16abda3-8f52-4cff-c2cd-8405b895a09d"
      },
      "execution_count": 28,
      "outputs": [
        {
          "output_type": "execute_result",
          "data": {
            "text/plain": [
              "Index(['PART_NAME', 'EQUIP_CD', 'PassOrFail', 'Injection_Time', 'Filling_Time',\n",
              "       'Plasticizing_Time', 'Cycle_Time', 'Clamp_Close_Time',\n",
              "       'Cushion_Position', 'Switch_Over_Position', 'Plasticizing_Position',\n",
              "       'Clamp_Open_Position', 'Max_Injection_Speed', 'Max_Screw_RPM',\n",
              "       'Average_Screw_RPM', 'Max_Injection_Pressure',\n",
              "       'Max_Switch_Over_Pressure', 'Max_Back_Pressure',\n",
              "       'Average_Back_Pressure', 'Barrel_Temperature_1', 'Barrel_Temperature_2',\n",
              "       'Barrel_Temperature_3', 'Barrel_Temperature_4', 'Barrel_Temperature_5',\n",
              "       'Barrel_Temperature_6', 'Hopper_Temperature', 'Mold_Temperature_3',\n",
              "       'Mold_Temperature_4'],\n",
              "      dtype='object')"
            ]
          },
          "metadata": {},
          "execution_count": 28
        }
      ]
    },
    {
      "cell_type": "code",
      "source": [
        "# 부품 별로 분석을 하기 위해서 나눔\n",
        "print(df_mo_1.shape)\n",
        "print(df_mo_1[df_mo_1.PART_NAME.str.contains('RG3') == True].shape[0] + df_mo_1[df_mo_1.PART_NAME.str.contains('CN7') == True].shape[0])"
      ],
      "metadata": {
        "colab": {
          "base_uri": "https://localhost:8080/"
        },
        "id": "pKHH21z3RywF",
        "outputId": "30fc8e6a-8189-4b28-95fd-7dd99dd78130"
      },
      "execution_count": 29,
      "outputs": [
        {
          "output_type": "stream",
          "name": "stdout",
          "text": [
            "(7956, 28)\n",
            "7956\n"
          ]
        }
      ]
    },
    {
      "cell_type": "code",
      "source": [
        "df_mo_1_copy = df_mo_1.copy() # 세이브파일"
      ],
      "metadata": {
        "id": "goRBoIuqLQMG"
      },
      "execution_count": 30,
      "outputs": []
    },
    {
      "cell_type": "code",
      "source": [
        "df_mo_1 = df_mo_1_copy # 불러오기"
      ],
      "metadata": {
        "id": "jfHY1O2ALV95"
      },
      "execution_count": 1243,
      "outputs": []
    },
    {
      "cell_type": "code",
      "source": [
        "reason_2_list = ['PART_NAME','PassOrFail','Max_Injection_Speed', 'Max_Screw_RPM',\n",
        "       'Average_Screw_RPM', 'Max_Injection_Pressure',\n",
        "       'Max_Switch_Over_Pressure', 'Max_Back_Pressure',\n",
        "       'Average_Back_Pressure']"
      ],
      "metadata": {
        "id": "7P_BjAEguUWC"
      },
      "execution_count": 31,
      "outputs": []
    },
    {
      "cell_type": "code",
      "source": [
        "df_mo_1 = df_mo_1[reason_2_list]"
      ],
      "metadata": {
        "id": "IRPt79rmLa4l"
      },
      "execution_count": 32,
      "outputs": []
    },
    {
      "cell_type": "code",
      "source": [
        "df_RG3_1 = df_mo_1[df_mo_1.PART_NAME.str.contains(\"RG3 MOLD'G W/SHLD, RH\") == True]\n",
        "df_CN7_1 = df_mo_1[df_mo_1.PART_NAME.str.contains(\"CN7 W/S SIDE MLD'G RH\") == True]"
      ],
      "metadata": {
        "id": "fVCzfXvvTQvP"
      },
      "execution_count": 33,
      "outputs": []
    },
    {
      "cell_type": "code",
      "source": [
        "X_RG3_1_train, y_RG3_1_train, X_RG3_1_test, y_RG3_1_test = split_data(df_RG3_1, mo_target)\n",
        "X_CN7_1_train, y_CN7_1_train, X_CN7_1_test, y_CN7_1_test = split_data(df_CN7_1, mo_target)"
      ],
      "metadata": {
        "id": "4jJBUQn8Tlmv"
      },
      "execution_count": 34,
      "outputs": []
    },
    {
      "cell_type": "markdown",
      "source": [
        "**RG3**"
      ],
      "metadata": {
        "id": "maCib3G8UYju"
      }
    },
    {
      "cell_type": "markdown",
      "source": [
        "LH는 표본수가 적어서 일단 제외.\n",
        "속도와 압력 관련된 feature만 넣었을때 "
      ],
      "metadata": {
        "id": "OFQ8AlTA08BY"
      }
    },
    {
      "cell_type": "code",
      "source": [
        "pipe = make_pipeline(\n",
        "    OrdinalEncoder(),\n",
        "    DecisionTreeClassifier(max_depth=12,random_state=42, class_weight=\"balanced\"),\n",
        ")\n",
        "pipe.fit(X_RG3_1_train, y_RG3_1_train)\n",
        "\n",
        "plot_confusion_matrix(pipe, X_RG3_1_test, y_RG3_1_test, cmap=plt.cm.Reds)\n",
        "plt.title(f\"Confusion Matrix (n = {len(y_RG3_1_test)})\", fontsize=15)"
      ],
      "metadata": {
        "colab": {
          "base_uri": "https://localhost:8080/",
          "height": 315
        },
        "id": "nQXeCXCwkMmV",
        "outputId": "a434e1a8-f05d-4ceb-ab3e-7ce70a03994d"
      },
      "execution_count": 35,
      "outputs": [
        {
          "output_type": "execute_result",
          "data": {
            "text/plain": [
              "Text(0.5, 1.0, 'Confusion Matrix (n = 186)')"
            ]
          },
          "metadata": {},
          "execution_count": 35
        },
        {
          "output_type": "display_data",
          "data": {
            "text/plain": [
              "<Figure size 432x288 with 2 Axes>"
            ],
            "image/png": "[encoded data removed]"
          },
          "metadata": {
            "needs_background": "light"
          }
        }
      ]
    },
    {
      "cell_type": "markdown",
      "source": [
        "이 모델을 적용하여 예측값이 불량품이 나온 사이클에서 공정검사를 실시할 경우 불량품의 반을 차지하는 가스 불량품들을 33퍼나 줄일수 있다. 가스 불량의 경우 파츠 표면에 생겨 육안검사로 불량품을 선별할수있기에 공정검사 자체가 크게 길어지지는 않을것이라는 생각이다."
      ],
      "metadata": {
        "id": "C1x9Iv9hByU8"
      }
    },
    {
      "cell_type": "code",
      "source": [
        "np.where(pipe.predict(X_RG3_1_test) == 0)"
      ],
      "metadata": {
        "colab": {
          "base_uri": "https://localhost:8080/"
        },
        "id": "jNVU2Ofr3lmb",
        "outputId": "65d159d0-6709-4732-bfb9-fcad014937b3"
      },
      "execution_count": 1357,
      "outputs": [
        {
          "output_type": "execute_result",
          "data": {
            "text/plain": [
              "(array([  4,  20,  23,  25,  28,  34,  46,  71, 127, 153, 166, 179, 184]),)"
            ]
          },
          "metadata": {},
          "execution_count": 1357
        }
      ]
    },
    {
      "cell_type": "code",
      "source": [
        "for_index = y_RG3_1_test.reset_index(drop=True)\n",
        "for_index[for_index == 0]\n",
        "# 46, 184, 6, 41, 105, 134"
      ],
      "metadata": {
        "colab": {
          "base_uri": "https://localhost:8080/"
        },
        "id": "dIhHeMgC4L8G",
        "outputId": "9321da64-f76b-4808-f866-28fb7fb99205"
      },
      "execution_count": 1353,
      "outputs": [
        {
          "output_type": "execute_result",
          "data": {
            "text/plain": [
              "6      0\n",
              "41     0\n",
              "46     0\n",
              "105    0\n",
              "134    0\n",
              "184    0\n",
              "Name: PassOrFail, dtype: int64"
            ]
          },
          "metadata": {},
          "execution_count": 1353
        }
      ]
    },
    {
      "cell_type": "code",
      "source": [
        "for_index_2 = X_RG3_1_test.reset_index(drop=True)"
      ],
      "metadata": {
        "id": "CF1Dlptf6bCK"
      },
      "execution_count": 39,
      "outputs": []
    },
    {
      "cell_type": "code",
      "source": [
        "for_index_2.loc[184]"
      ],
      "metadata": {
        "colab": {
          "base_uri": "https://localhost:8080/"
        },
        "id": "b7t7hzk_9vAC",
        "outputId": "829715d4-360d-4b54-d9c7-c2977446755a"
      },
      "execution_count": 1379,
      "outputs": [
        {
          "output_type": "execute_result",
          "data": {
            "text/plain": [
              "PART_NAME                   RG3 MOLD'G W/SHLD, RH\n",
              "Max_Injection_Speed                    128.100006\n",
              "Max_Screw_RPM                                30.9\n",
              "Average_Screw_RPM                           290.5\n",
              "Max_Injection_Pressure                 142.699997\n",
              "Max_Switch_Over_Pressure               116.599998\n",
              "Max_Back_Pressure                       56.700001\n",
              "Average_Back_Pressure                   61.700001\n",
              "Name: 184, dtype: object"
            ]
          },
          "metadata": {},
          "execution_count": 1379
        }
      ]
    },
    {
      "cell_type": "code",
      "source": [
        "importances = pd.Series(pipe[1].feature_importances_, X_RG3_1_train.columns)\n",
        "plt.figure(figsize=(5, 10))\n",
        "importances.sort_values().plot.barh();"
      ],
      "metadata": {
        "colab": {
          "base_uri": "https://localhost:8080/",
          "height": 1000
        },
        "id": "XCoumSKgyyeT",
        "outputId": "fdbfc697-c65e-4a8a-8b4e-e5d4038c7566"
      },
      "execution_count": 1384,
      "outputs": [
        {
          "output_type": "display_data",
          "data": {
            "text/plain": [
              "<Figure size 720x1440 with 1 Axes>"
            ],
            "image/png": "[encoded data removed]"
          },
          "metadata": {
            "needs_background": "light"
          }
        }
      ]
    },
    {
      "cell_type": "markdown",
      "source": [
        "Average_Back_Pressure와 Max_Switch_Over_\n",
        "Pressure가 영향을 끼치고 있다."
      ],
      "metadata": {
        "id": "dxOQ6dNvv4H6"
      }
    },
    {
      "cell_type": "code",
      "source": [
        "import matplotlib.pyplot as plt\n",
        "\n",
        "plt.rcParams[\"figure.dpi\"] = 144"
      ],
      "metadata": {
        "id": "Z7dInVZf2BtW"
      },
      "execution_count": 36,
      "outputs": []
    },
    {
      "cell_type": "code",
      "source": [
        "def get_ice_plot_data(data, data_index, target_feature, target_feature_range):\n",
        "    one_datapoint = data.iloc[[data_index]].copy()\n",
        "    results = []\n",
        "\n",
        "    for target_value in target_feature_range:\n",
        "        one_datapoint[target_feature] = target_value\n",
        "        one_datapoint_pred_proba = pipe.predict_proba(one_datapoint)[:, 1]\n",
        "        results.append(one_datapoint_pred_proba.item())\n",
        "    results = np.array(results)\n",
        "    return target_feature_range, results - results[0]"
      ],
      "metadata": {
        "id": "GMSI_wGe59b3"
      },
      "execution_count": 41,
      "outputs": []
    },
    {
      "cell_type": "code",
      "source": [
        "from pdpbox.pdp import pdp_isolate, pdp_plot\n",
        "\n",
        "target_feature = \"Average_Back_Pressure\"\n",
        "target_feature_range = range(round(X_RG3_1_test[\"Average_Back_Pressure\"].min()), round(X_RG3_1_test[\"Average_Back_Pressure\"].max() + 1))\n",
        "for data_index in [184]:\n",
        "    plt.plot(\n",
        "        *get_ice_plot_data(\n",
        "            for_index_2, data_index, target_feature, target_feature_range\n",
        "        ),\n",
        "        label=f\"data_idx={data_index}\",\n",
        "    )\n",
        "\n",
        "plt.xlabel(target_feature)\n",
        "plt.ylabel(\"$\\Delta$ pred_proba\")\n",
        "plt.legend()"
      ],
      "metadata": {
        "colab": {
          "base_uri": "https://localhost:8080/",
          "height": 564
        },
        "id": "UDnuNQVWzea8",
        "outputId": "b89f9d56-1e8b-44e7-b3c1-cea384e8e0a5"
      },
      "execution_count": 42,
      "outputs": [
        {
          "output_type": "execute_result",
          "data": {
            "text/plain": [
              "<matplotlib.legend.Legend at 0x7f227e578050>"
            ]
          },
          "metadata": {},
          "execution_count": 42
        },
        {
          "output_type": "display_data",
          "data": {
            "text/plain": [
              "<Figure size 864x576 with 1 Axes>"
            ],
            "image/png": "[encoded data removed]"
          },
          "metadata": {
            "needs_background": "light"
          }
        }
      ]
    },
    {
      "cell_type": "markdown",
      "source": [
        "184번 불량품 같은 경우에는 Average_Back_Pressure의 증감에 따라 확률이 변동하는 것을 확인 할 수 있다. Average_Back_Pressure는 수지가 계량이 되는중에 스크류가 밀려나는 현상을 저지하기위한 평균압력으로 이 수치가 높다면 평균 사출압이 높다는 것으로 해석할 수 있으며 높은 사출압은 가스 불량의 요인임으로 이해되는 현상이라 판단하였다. 이 특성은 입력특성이 아닌 출력된 특성이기에 이와 같은 결함을 줄이려면 사출압을 줄여야 하지만 사출압이 줄면 그만큼 미성형이 될 가능성도 높아짐으로 좀 더 세밀한 분석이 필요하다.\n"
      ],
      "metadata": {
        "id": "DP3pCiO288B1"
      }
    },
    {
      "cell_type": "code",
      "source": [
        "from pdpbox.pdp import pdp_isolate, pdp_plot\n",
        "\n",
        "target_feature = \"Max_Switch_Over_Pressure\"\n",
        "target_feature_range = range(round(X_RG3_1_test[\"Max_Switch_Over_Pressure\"].min()), round(X_RG3_1_test[\"Max_Switch_Over_Pressure\"].max() + 1))\n",
        "for data_index in [46]:\n",
        "    plt.plot(\n",
        "        *get_ice_plot_data(\n",
        "            for_index_2, data_index, target_feature, target_feature_range\n",
        "        ),\n",
        "        label=f\"data_idx={data_index}\",\n",
        "    )\n",
        "\n",
        "plt.xlabel(target_feature)\n",
        "plt.ylabel(\"$\\Delta$ pred_proba\")\n",
        "plt.legend()"
      ],
      "metadata": {
        "colab": {
          "base_uri": "https://localhost:8080/",
          "height": 559
        },
        "id": "ETb8Vd3W66bV",
        "outputId": "50dd3eea-3f6c-49a2-88a5-4c17dc29e2b7"
      },
      "execution_count": 1367,
      "outputs": [
        {
          "output_type": "execute_result",
          "data": {
            "text/plain": [
              "<matplotlib.legend.Legend at 0x7f27d7220b10>"
            ]
          },
          "metadata": {},
          "execution_count": 1367
        },
        {
          "output_type": "display_data",
          "data": {
            "text/plain": [
              "<Figure size 864x576 with 1 Axes>"
            ],
            "image/png": "[encoded data removed]"
          },
          "metadata": {
            "needs_background": "light"
          }
        }
      ]
    },
    {
      "cell_type": "markdown",
      "source": [
        "Max_Switch_Over_\n",
        "Pressure 또한 사출에서 보압(충전된 수지가 밀리지않게 압력을준다)으로 변환되는 압력, 즉 사출압의 반력이며 높아질수록 사출압이 높아진다고 해석 가능하다. "
      ],
      "metadata": {
        "id": "ZQJz-HXZ_Rxl"
      }
    },
    {
      "cell_type": "markdown",
      "source": [
        "**CN7**"
      ],
      "metadata": {
        "id": "sbfdvkL-pLmD"
      }
    },
    {
      "cell_type": "code",
      "source": [
        "pipe = make_pipeline(\n",
        "    OrdinalEncoder(),\n",
        "    DecisionTreeClassifier(max_depth=12,random_state=42, class_weight=\"balanced\"),\n",
        ")\n",
        "pipe.fit(X_CN7_1_train, y_CN7_1_train)\n",
        "\n",
        "plot_confusion_matrix(pipe, X_CN7_1_test, y_CN7_1_test, cmap=plt.cm.Reds)\n",
        "plt.title(f\"Confusion Matrix (n = {len(y_CN7_1_test)})\", fontsize=15)"
      ],
      "metadata": {
        "colab": {
          "base_uri": "https://localhost:8080/",
          "height": 593
        },
        "id": "URhJUWS8wGvE",
        "outputId": "89eab438-b8d5-428c-e9a0-f1a0da4e0146"
      },
      "execution_count": 1377,
      "outputs": [
        {
          "output_type": "execute_result",
          "data": {
            "text/plain": [
              "Text(0.5, 1.0, 'Confusion Matrix (n = 1008)')"
            ]
          },
          "metadata": {},
          "execution_count": 1377
        },
        {
          "output_type": "display_data",
          "data": {
            "text/plain": [
              "<Figure size 864x576 with 2 Axes>"
            ],
            "image/png": "[encoded data removed]"
          },
          "metadata": {
            "needs_background": "light"
          }
        }
      ]
    },
    {
      "cell_type": "code",
      "source": [
        "importances = pd.Series(pipe[1].feature_importances_, X_RG3_1_train.columns)\n",
        "plt.figure(figsize=(5, 10))\n",
        "importances.sort_values().plot.barh();"
      ],
      "metadata": {
        "colab": {
          "base_uri": "https://localhost:8080/",
          "height": 1000
        },
        "id": "64H3I3WDwNmB",
        "outputId": "e7865f0b-0113-4ad8-a621-8ecb544a5a9c"
      },
      "execution_count": 1378,
      "outputs": [
        {
          "output_type": "display_data",
          "data": {
            "text/plain": [
              "<Figure size 720x1440 with 1 Axes>"
            ],
            "image/png": "[encoded data removed]"
          },
          "metadata": {
            "needs_background": "light"
          }
        }
      ]
    },
    {
      "cell_type": "markdown",
      "source": [
        "CN7 또한 Average_Back_Pressure가 큰 중요도를 가지고 있지만 불량품으로 예측한 모든 제품을 검사하기에는 기대치가 너무 낮다."
      ],
      "metadata": {
        "id": "NpOZD-Qxwgvc"
      }
    },
    {
      "cell_type": "markdown",
      "source": [
        "# **초기허용불량 분석**"
      ],
      "metadata": {
        "id": "Lwgq47LsM8UY"
      }
    },
    {
      "cell_type": "markdown",
      "source": [
        "초기허용불량이란 사출공정시 금형 교체 및 설비 정지후 재가동 시 처음 나오는 제품부터 양품이 생산되는 공정 사이에 나오는 불량품들을 말한다. 이는 의도된 불량품이라 모델링을 할 필요가 없다 생각 할 수도 있지만 라벨링이 되어 있지 않은 데이터셋에서 초기허용불량을 구별하기 위해 필요한 모델이다."
      ],
      "metadata": {
        "id": "AiTM-f7IeHOE"
      }
    },
    {
      "cell_type": "code",
      "source": [
        "df_mo.loc[reason_2_index].PART_NAME.value_counts() # RG3에 대해서 불량 없음."
      ],
      "metadata": {
        "colab": {
          "base_uri": "https://localhost:8080/"
        },
        "id": "n0kuLo3-Myu0",
        "outputId": "76306b37-5df5-45b1-9c76-2313e3349baf"
      },
      "execution_count": 1073,
      "outputs": [
        {
          "output_type": "execute_result",
          "data": {
            "text/plain": [
              "CN7 W/S SIDE MLD'G RH    10\n",
              "CN7 W/S SIDE MLD'G LH    10\n",
              "Name: PART_NAME, dtype: int64"
            ]
          },
          "metadata": {},
          "execution_count": 1073
        }
      ]
    },
    {
      "cell_type": "code",
      "source": [
        "df_mo_2.describe() # 모든값이 0인 특성은 삭제"
      ],
      "metadata": {
        "colab": {
          "base_uri": "https://localhost:8080/",
          "height": 393
        },
        "id": "7IIp_qpoNUv8",
        "outputId": "ce95abaa-ba16-4b01-c128-349a6a75afb9"
      },
      "execution_count": 41,
      "outputs": [
        {
          "output_type": "execute_result",
          "data": {
            "text/plain": [
              "        PassOrFail  Injection_Time  Filling_Time  Plasticizing_Time  \\\n",
              "count  7941.000000     7941.000000   7941.000000        7941.000000   \n",
              "mean      0.997481        8.267021      3.907170          16.220991   \n",
              "std       0.050125        3.080881      1.274749           1.429060   \n",
              "min       0.000000        1.050000      0.930000          12.800000   \n",
              "25%       1.000000        9.520000      4.400000          16.580000   \n",
              "50%       1.000000        9.560000      4.440000          16.799999   \n",
              "75%       1.000000        9.590000      4.470000          16.889999   \n",
              "max       1.000000       13.390000      8.270000          21.100000   \n",
              "\n",
              "        Cycle_Time  Clamp_Close_Time  Cushion_Position  Switch_Over_Position  \\\n",
              "count  7941.000000       7941.000000       7941.000000           7941.000000   \n",
              "mean     59.891912          7.065567        653.566142              0.330089   \n",
              "std       0.872678          0.132466          0.311875             14.704733   \n",
              "min      58.840000          6.070000        653.390015              0.000000   \n",
              "25%      59.520000          7.110000        653.429993              0.000000   \n",
              "50%      59.520000          7.120000        653.440002              0.000000   \n",
              "75%      59.560001          7.120000        653.450012              0.000000   \n",
              "max      64.349998          7.180000        655.000000            655.309998   \n",
              "\n",
              "       Plasticizing_Position  Clamp_Open_Position  ...  Average_Back_Pressure  \\\n",
              "count            7941.000000          7941.000000  ...            7941.000000   \n",
              "mean               66.100104           546.202655  ...              59.592583   \n",
              "std                 5.376249           234.439135  ...               3.308715   \n",
              "min                53.549999             4.630000  ...              13.300000   \n",
              "25%                68.250000           647.989990  ...              59.400002   \n",
              "50%                68.339996           647.989990  ...              59.599998   \n",
              "75%                68.489998           647.989990  ...              59.900002   \n",
              "max                68.860001           647.989990  ...              90.800003   \n",
              "\n",
              "       Barrel_Temperature_1  Barrel_Temperature_2  Barrel_Temperature_3  \\\n",
              "count           7941.000000           7941.000000           7941.000000   \n",
              "mean             277.504105            276.686172            276.421823   \n",
              "std                4.187632              4.031883              4.044912   \n",
              "min              244.699997            249.000000            249.600006   \n",
              "25%              275.899994            275.000000            274.899994   \n",
              "50%              276.200012            275.399994            275.000000   \n",
              "75%              276.600006            275.700012            275.399994   \n",
              "max              287.100006            286.500000            285.799988   \n",
              "\n",
              "       Barrel_Temperature_4  Barrel_Temperature_5  Barrel_Temperature_6  \\\n",
              "count           7941.000000           7941.000000           7941.000000   \n",
              "mean             271.067146            256.478327            230.742262   \n",
              "std                2.623361              3.789750              1.850507   \n",
              "min              244.399994            239.699997            224.600006   \n",
              "25%              269.799988            254.899994            229.899994   \n",
              "50%              270.700012            255.000000            230.100006   \n",
              "75%              271.399994            255.399994            230.199997   \n",
              "max              276.799988            266.399994            235.500000   \n",
              "\n",
              "       Hopper_Temperature  Mold_Temperature_3  Mold_Temperature_4  \n",
              "count         7941.000000         7941.000000         7941.000000  \n",
              "mean            66.486047           22.143924           23.518411  \n",
              "std              2.315671            1.117934            1.293860  \n",
              "min             38.500000           19.100000           20.600000  \n",
              "25%             65.400002           21.400000           22.700001  \n",
              "50%             66.699997           22.000000           23.400000  \n",
              "75%             67.599998           22.900000           24.200001  \n",
              "max             70.599998           25.299999           27.799999  \n",
              "\n",
              "[8 rows x 26 columns]"
            ],
            "text/html": [
              "\n",
              "  <div id=\"df-1d5ee1c8-9bfe-49f8-86b2-d0440a7437fb\">\n",
              "    <div class=\"colab-df-container\">\n",
              "      <div>\n",
              "<style scoped>\n",
              "    .dataframe tbody tr th:only-of-type {\n",
              "        vertical-align: middle;\n",
              "    }\n",
              "\n",
              "    .dataframe tbody tr th {\n",
              "        vertical-align: top;\n",
              "    }\n",
              "\n",
              "    .dataframe thead th {\n",
              "        text-align: right;\n",
              "    }\n",
              "</style>\n",
              "<table border=\"1\" class=\"dataframe\">\n",
              "  <thead>\n",
              "    <tr style=\"text-align: right;\">\n",
              "      <th></th>\n",
              "      <th>PassOrFail</th>\n",
              "      <th>Injection_Time</th>\n",
              "      <th>Filling_Time</th>\n",
              "      <th>Plasticizing_Time</th>\n",
              "      <th>Cycle_Time</th>\n",
              "      <th>Clamp_Close_Time</th>\n",
              "      <th>Cushion_Position</th>\n",
              "      <th>Switch_Over_Position</th>\n",
              "      <th>Plasticizing_Position</th>\n",
              "      <th>Clamp_Open_Position</th>\n",
              "      <th>...</th>\n",
              "      <th>Average_Back_Pressure</th>\n",
              "      <th>Barrel_Temperature_1</th>\n",
              "      <th>Barrel_Temperature_2</th>\n",
              "      <th>Barrel_Temperature_3</th>\n",
              "      <th>Barrel_Temperature_4</th>\n",
              "      <th>Barrel_Temperature_5</th>\n",
              "      <th>Barrel_Temperature_6</th>\n",
              "      <th>Hopper_Temperature</th>\n",
              "      <th>Mold_Temperature_3</th>\n",
              "      <th>Mold_Temperature_4</th>\n",
              "    </tr>\n",
              "  </thead>\n",
              "  <tbody>\n",
              "    <tr>\n",
              "      <th>count</th>\n",
              "      <td>7941.000000</td>\n",
              "      <td>7941.000000</td>\n",
              "      <td>7941.000000</td>\n",
              "      <td>7941.000000</td>\n",
              "      <td>7941.000000</td>\n",
              "      <td>7941.000000</td>\n",
              "      <td>7941.000000</td>\n",
              "      <td>7941.000000</td>\n",
              "      <td>7941.000000</td>\n",
              "      <td>7941.000000</td>\n",
              "      <td>...</td>\n",
              "      <td>7941.000000</td>\n",
              "      <td>7941.000000</td>\n",
              "      <td>7941.000000</td>\n",
              "      <td>7941.000000</td>\n",
              "      <td>7941.000000</td>\n",
              "      <td>7941.000000</td>\n",
              "      <td>7941.000000</td>\n",
              "      <td>7941.000000</td>\n",
              "      <td>7941.000000</td>\n",
              "      <td>7941.000000</td>\n",
              "    </tr>\n",
              "    <tr>\n",
              "      <th>mean</th>\n",
              "      <td>0.997481</td>\n",
              "      <td>8.267021</td>\n",
              "      <td>3.907170</td>\n",
              "      <td>16.220991</td>\n",
              "      <td>59.891912</td>\n",
              "      <td>7.065567</td>\n",
              "      <td>653.566142</td>\n",
              "      <td>0.330089</td>\n",
              "      <td>66.100104</td>\n",
              "      <td>546.202655</td>\n",
              "      <td>...</td>\n",
              "      <td>59.592583</td>\n",
              "      <td>277.504105</td>\n",
              "      <td>276.686172</td>\n",
              "      <td>276.421823</td>\n",
              "      <td>271.067146</td>\n",
              "      <td>256.478327</td>\n",
              "      <td>230.742262</td>\n",
              "      <td>66.486047</td>\n",
              "      <td>22.143924</td>\n",
              "      <td>23.518411</td>\n",
              "    </tr>\n",
              "    <tr>\n",
              "      <th>std</th>\n",
              "      <td>0.050125</td>\n",
              "      <td>3.080881</td>\n",
              "      <td>1.274749</td>\n",
              "      <td>1.429060</td>\n",
              "      <td>0.872678</td>\n",
              "      <td>0.132466</td>\n",
              "      <td>0.311875</td>\n",
              "      <td>14.704733</td>\n",
              "      <td>5.376249</td>\n",
              "      <td>234.439135</td>\n",
              "      <td>...</td>\n",
              "      <td>3.308715</td>\n",
              "      <td>4.187632</td>\n",
              "      <td>4.031883</td>\n",
              "      <td>4.044912</td>\n",
              "      <td>2.623361</td>\n",
              "      <td>3.789750</td>\n",
              "      <td>1.850507</td>\n",
              "      <td>2.315671</td>\n",
              "      <td>1.117934</td>\n",
              "      <td>1.293860</td>\n",
              "    </tr>\n",
              "    <tr>\n",
              "      <th>min</th>\n",
              "      <td>0.000000</td>\n",
              "      <td>1.050000</td>\n",
              "      <td>0.930000</td>\n",
              "      <td>12.800000</td>\n",
              "      <td>58.840000</td>\n",
              "      <td>6.070000</td>\n",
              "      <td>653.390015</td>\n",
              "      <td>0.000000</td>\n",
              "      <td>53.549999</td>\n",
              "      <td>4.630000</td>\n",
              "      <td>...</td>\n",
              "      <td>13.300000</td>\n",
              "      <td>244.699997</td>\n",
              "      <td>249.000000</td>\n",
              "      <td>249.600006</td>\n",
              "      <td>244.399994</td>\n",
              "      <td>239.699997</td>\n",
              "      <td>224.600006</td>\n",
              "      <td>38.500000</td>\n",
              "      <td>19.100000</td>\n",
              "      <td>20.600000</td>\n",
              "    </tr>\n",
              "    <tr>\n",
              "      <th>25%</th>\n",
              "      <td>1.000000</td>\n",
              "      <td>9.520000</td>\n",
              "      <td>4.400000</td>\n",
              "      <td>16.580000</td>\n",
              "      <td>59.520000</td>\n",
              "      <td>7.110000</td>\n",
              "      <td>653.429993</td>\n",
              "      <td>0.000000</td>\n",
              "      <td>68.250000</td>\n",
              "      <td>647.989990</td>\n",
              "      <td>...</td>\n",
              "      <td>59.400002</td>\n",
              "      <td>275.899994</td>\n",
              "      <td>275.000000</td>\n",
              "      <td>274.899994</td>\n",
              "      <td>269.799988</td>\n",
              "      <td>254.899994</td>\n",
              "      <td>229.899994</td>\n",
              "      <td>65.400002</td>\n",
              "      <td>21.400000</td>\n",
              "      <td>22.700001</td>\n",
              "    </tr>\n",
              "    <tr>\n",
              "      <th>50%</th>\n",
              "      <td>1.000000</td>\n",
              "      <td>9.560000</td>\n",
              "      <td>4.440000</td>\n",
              "      <td>16.799999</td>\n",
              "      <td>59.520000</td>\n",
              "      <td>7.120000</td>\n",
              "      <td>653.440002</td>\n",
              "      <td>0.000000</td>\n",
              "      <td>68.339996</td>\n",
              "      <td>647.989990</td>\n",
              "      <td>...</td>\n",
              "      <td>59.599998</td>\n",
              "      <td>276.200012</td>\n",
              "      <td>275.399994</td>\n",
              "      <td>275.000000</td>\n",
              "      <td>270.700012</td>\n",
              "      <td>255.000000</td>\n",
              "      <td>230.100006</td>\n",
              "      <td>66.699997</td>\n",
              "      <td>22.000000</td>\n",
              "      <td>23.400000</td>\n",
              "    </tr>\n",
              "    <tr>\n",
              "      <th>75%</th>\n",
              "      <td>1.000000</td>\n",
              "      <td>9.590000</td>\n",
              "      <td>4.470000</td>\n",
              "      <td>16.889999</td>\n",
              "      <td>59.560001</td>\n",
              "      <td>7.120000</td>\n",
              "      <td>653.450012</td>\n",
              "      <td>0.000000</td>\n",
              "      <td>68.489998</td>\n",
              "      <td>647.989990</td>\n",
              "      <td>...</td>\n",
              "      <td>59.900002</td>\n",
              "      <td>276.600006</td>\n",
              "      <td>275.700012</td>\n",
              "      <td>275.399994</td>\n",
              "      <td>271.399994</td>\n",
              "      <td>255.399994</td>\n",
              "      <td>230.199997</td>\n",
              "      <td>67.599998</td>\n",
              "      <td>22.900000</td>\n",
              "      <td>24.200001</td>\n",
              "    </tr>\n",
              "    <tr>\n",
              "      <th>max</th>\n",
              "      <td>1.000000</td>\n",
              "      <td>13.390000</td>\n",
              "      <td>8.270000</td>\n",
              "      <td>21.100000</td>\n",
              "      <td>64.349998</td>\n",
              "      <td>7.180000</td>\n",
              "      <td>655.000000</td>\n",
              "      <td>655.309998</td>\n",
              "      <td>68.860001</td>\n",
              "      <td>647.989990</td>\n",
              "      <td>...</td>\n",
              "      <td>90.800003</td>\n",
              "      <td>287.100006</td>\n",
              "      <td>286.500000</td>\n",
              "      <td>285.799988</td>\n",
              "      <td>276.799988</td>\n",
              "      <td>266.399994</td>\n",
              "      <td>235.500000</td>\n",
              "      <td>70.599998</td>\n",
              "      <td>25.299999</td>\n",
              "      <td>27.799999</td>\n",
              "    </tr>\n",
              "  </tbody>\n",
              "</table>\n",
              "<p>8 rows × 26 columns</p>\n",
              "</div>\n",
              "      <button class=\"colab-df-convert\" onclick=\"convertToInteractive('df-1d5ee1c8-9bfe-49f8-86b2-d0440a7437fb')\"\n",
              "              title=\"Convert this dataframe to an interactive table.\"\n",
              "              style=\"display:none;\">\n",
              "        \n",
              "  <svg xmlns=\"http://www.w3.org/2000/svg\" height=\"24px\"viewBox=\"0 0 24 24\"\n",
              "       width=\"24px\">\n",
              "    <path d=\"M0 0h24v24H0V0z\" fill=\"none\"/>\n",
              "    <path d=\"M18.56 5.44l.94 2.06.94-2.06 2.06-.94-2.06-.94-.94-2.06-.94 2.06-2.06.94zm-11 1L8.5 8.5l.94-2.06 2.06-.94-2.06-.94L8.5 2.5l-.94 2.06-2.06.94zm10 10l.94 2.06.94-2.06 2.06-.94-2.06-.94-.94-2.06-.94 2.06-2.06.94z\"/><path d=\"M17.41 7.96l-1.37-1.37c-.4-.4-.92-.59-1.43-.59-.52 0-1.04.2-1.43.59L10.3 9.45l-7.72 7.72c-.78.78-.78 2.05 0 2.83L4 21.41c.39.39.9.59 1.41.59.51 0 1.02-.2 1.41-.59l7.78-7.78 2.81-2.81c.8-.78.8-2.07 0-2.86zM5.41 20L4 18.59l7.72-7.72 1.47 1.35L5.41 20z\"/>\n",
              "  </svg>\n",
              "      </button>\n",
              "      \n",
              "  <style>\n",
              "    .colab-df-container {\n",
              "      display:flex;\n",
              "      flex-wrap:wrap;\n",
              "      gap: 12px;\n",
              "    }\n",
              "\n",
              "    .colab-df-convert {\n",
              "      background-color: #E8F0FE;\n",
              "      border: none;\n",
              "      border-radius: 50%;\n",
              "      cursor: pointer;\n",
              "      display: none;\n",
              "      fill: #1967D2;\n",
              "      height: 32px;\n",
              "      padding: 0 0 0 0;\n",
              "      width: 32px;\n",
              "    }\n",
              "\n",
              "    .colab-df-convert:hover {\n",
              "      background-color: #E2EBFA;\n",
              "      box-shadow: 0px 1px 2px rgba(60, 64, 67, 0.3), 0px 1px 3px 1px rgba(60, 64, 67, 0.15);\n",
              "      fill: #174EA6;\n",
              "    }\n",
              "\n",
              "    [theme=dark] .colab-df-convert {\n",
              "      background-color: #3B4455;\n",
              "      fill: #D2E3FC;\n",
              "    }\n",
              "\n",
              "    [theme=dark] .colab-df-convert:hover {\n",
              "      background-color: #434B5C;\n",
              "      box-shadow: 0px 1px 3px 1px rgba(0, 0, 0, 0.15);\n",
              "      filter: drop-shadow(0px 1px 2px rgba(0, 0, 0, 0.3));\n",
              "      fill: #FFFFFF;\n",
              "    }\n",
              "  </style>\n",
              "\n",
              "      <script>\n",
              "        const buttonEl =\n",
              "          document.querySelector('#df-1d5ee1c8-9bfe-49f8-86b2-d0440a7437fb button.colab-df-convert');\n",
              "        buttonEl.style.display =\n",
              "          google.colab.kernel.accessAllowed ? 'block' : 'none';\n",
              "\n",
              "        async function convertToInteractive(key) {\n",
              "          const element = document.querySelector('#df-1d5ee1c8-9bfe-49f8-86b2-d0440a7437fb');\n",
              "          const dataTable =\n",
              "            await google.colab.kernel.invokeFunction('convertToInteractive',\n",
              "                                                     [key], {});\n",
              "          if (!dataTable) return;\n",
              "\n",
              "          const docLinkHtml = 'Like what you see? Visit the ' +\n",
              "            '<a target=\"_blank\" href=https://colab.research.google.com/notebooks/data_table.ipynb>data table notebook</a>'\n",
              "            + ' to learn more about interactive tables.';\n",
              "          element.innerHTML = '';\n",
              "          dataTable['output_type'] = 'display_data';\n",
              "          await google.colab.output.renderOutput(dataTable, element);\n",
              "          const docLink = document.createElement('div');\n",
              "          docLink.innerHTML = docLinkHtml;\n",
              "          element.appendChild(docLink);\n",
              "        }\n",
              "      </script>\n",
              "    </div>\n",
              "  </div>\n",
              "  "
            ]
          },
          "metadata": {},
          "execution_count": 41
        }
      ]
    },
    {
      "cell_type": "code",
      "source": [
        "df_mo_2 = df_mo_2.drop(['Barrel_Temperature_7','Mold_Temperature_1', 'Mold_Temperature_2','Mold_Temperature_5', 'Mold_Temperature_6',\n",
        "       'Mold_Temperature_7', 'Mold_Temperature_8', 'Mold_Temperature_9',\n",
        "       'Mold_Temperature_10', 'Mold_Temperature_11', 'Mold_Temperature_12'],axis=1)"
      ],
      "metadata": {
        "id": "ZMPwaTYUOcES"
      },
      "execution_count": null,
      "outputs": []
    },
    {
      "cell_type": "code",
      "source": [
        "df_mo_2.columns"
      ],
      "metadata": {
        "colab": {
          "base_uri": "https://localhost:8080/"
        },
        "id": "dywbKIP2N5Dl",
        "outputId": "4dfac9dc-0ffd-42df-f3d3-e3cbbf3d5f84"
      },
      "execution_count": 42,
      "outputs": [
        {
          "output_type": "execute_result",
          "data": {
            "text/plain": [
              "Index(['PART_NAME', 'EQUIP_CD', 'PassOrFail', 'Injection_Time', 'Filling_Time',\n",
              "       'Plasticizing_Time', 'Cycle_Time', 'Clamp_Close_Time',\n",
              "       'Cushion_Position', 'Switch_Over_Position', 'Plasticizing_Position',\n",
              "       'Clamp_Open_Position', 'Max_Injection_Speed', 'Max_Screw_RPM',\n",
              "       'Average_Screw_RPM', 'Max_Injection_Pressure',\n",
              "       'Max_Switch_Over_Pressure', 'Max_Back_Pressure',\n",
              "       'Average_Back_Pressure', 'Barrel_Temperature_1', 'Barrel_Temperature_2',\n",
              "       'Barrel_Temperature_3', 'Barrel_Temperature_4', 'Barrel_Temperature_5',\n",
              "       'Barrel_Temperature_6', 'Hopper_Temperature', 'Mold_Temperature_3',\n",
              "       'Mold_Temperature_4'],\n",
              "      dtype='object')"
            ]
          },
          "metadata": {},
          "execution_count": 42
        }
      ]
    },
    {
      "cell_type": "code",
      "source": [
        "X_mo_2_train, y_mo_2_train, X_mo_2_test, y_mo_2_test = split_data(df_mo_2, mo_target)"
      ],
      "metadata": {
        "id": "nIHrfkKeOCa4"
      },
      "execution_count": 44,
      "outputs": []
    },
    {
      "cell_type": "code",
      "source": [
        "pipe = make_pipeline(\n",
        "    OrdinalEncoder(),\n",
        "    SimpleImputer(strategy=\"median\"),\n",
        "    XGBClassifier(\n",
        "        objective=\"binary:logistic\",\n",
        "        eval_metric=\"error\",\n",
        "        n_estimators=200,\n",
        "        random_state=42,\n",
        "        n_jobs=-1,\n",
        "        learning_rate=0.01,\n",
        "        scale_pos_weight=1,\n",
        "        max_depth = 10,\n",
        "        use_label_encoder=False,\n",
        "    ),\n",
        ")"
      ],
      "metadata": {
        "id": "C2ijMkoEoMiS"
      },
      "execution_count": 1371,
      "outputs": []
    },
    {
      "cell_type": "code",
      "source": [
        "pipe.fit(X_mo_2_train, y_mo_2_train)"
      ],
      "metadata": {
        "colab": {
          "base_uri": "https://localhost:8080/"
        },
        "id": "RLZBI7b0O9xp",
        "outputId": "ccbe6eae-fa7c-4758-cf5a-55a3c430b701"
      },
      "execution_count": 1372,
      "outputs": [
        {
          "output_type": "execute_result",
          "data": {
            "text/plain": [
              "Pipeline(steps=[('ordinalencoder',\n",
              "                 OrdinalEncoder(cols=['PART_NAME', 'EQUIP_CD'],\n",
              "                                mapping=[{'col': 'PART_NAME',\n",
              "                                          'data_type': dtype('O'),\n",
              "                                          'mapping': RG3 MOLD'G W/SHLD, LH    1\n",
              "CN7 W/S SIDE MLD'G RH    2\n",
              "CN7 W/S SIDE MLD'G LH    3\n",
              "RG3 MOLD'G W/SHLD, RH    4\n",
              "NaN                     -2\n",
              "dtype: int64},\n",
              "                                         {'col': 'EQUIP_CD',\n",
              "                                          'data_type': dtype('O'),\n",
              "                                          'mapping': S14    1\n",
              "NaN   -2\n",
              "dtype: int64}])),\n",
              "                ('simpleimputer', SimpleImputer(strategy='median')),\n",
              "                ('xgbclassifier',\n",
              "                 XGBClassifier(eval_metric='error', learning_rate=0.01,\n",
              "                               max_depth=10, n_estimators=200, n_jobs=-1,\n",
              "                               random_state=42, use_label_encoder=False))])"
            ]
          },
          "metadata": {},
          "execution_count": 1372
        }
      ]
    },
    {
      "cell_type": "code",
      "source": [
        "y_mo_pred = pipe.predict(X_mo_2_test)"
      ],
      "metadata": {
        "id": "nBJh0tpJPDfq"
      },
      "execution_count": 1329,
      "outputs": []
    },
    {
      "cell_type": "code",
      "source": [
        "print(classification_report(y_mo_2_test, y_mo_pred)) # 세부적으로 나누어 분석하니 완벽한 성능을 보여주었다."
      ],
      "metadata": {
        "colab": {
          "base_uri": "https://localhost:8080/"
        },
        "id": "ZheAtHeHPFzn",
        "outputId": "31cd279b-5ac5-4b4b-8ad6-a012a2f2965f"
      },
      "execution_count": 1330,
      "outputs": [
        {
          "output_type": "stream",
          "name": "stdout",
          "text": [
            "              precision    recall  f1-score   support\n",
            "\n",
            "           0       1.00      1.00      1.00         6\n",
            "           1       1.00      1.00      1.00      2377\n",
            "\n",
            "    accuracy                           1.00      2383\n",
            "   macro avg       1.00      1.00      1.00      2383\n",
            "weighted avg       1.00      1.00      1.00      2383\n",
            "\n"
          ]
        }
      ]
    },
    {
      "cell_type": "code",
      "source": [
        "plot_confusion_matrix(pipe, X_mo_2_test, y_mo_2_test, cmap=plt.cm.Reds)\n",
        "plt.title(f\"Confusion Matrix (n = {len(y_mo_2_test)})\", fontsize=15)"
      ],
      "metadata": {
        "colab": {
          "base_uri": "https://localhost:8080/",
          "height": 593
        },
        "id": "BcvHK2yD1ap7",
        "outputId": "5004b2a4-0e23-4fdc-b612-16dec233ac30"
      },
      "execution_count": 1376,
      "outputs": [
        {
          "output_type": "execute_result",
          "data": {
            "text/plain": [
              "Text(0.5, 1.0, 'Confusion Matrix (n = 2383)')"
            ]
          },
          "metadata": {},
          "execution_count": 1376
        },
        {
          "output_type": "display_data",
          "data": {
            "text/plain": [
              "<Figure size 864x576 with 2 Axes>"
            ],
            "image/png": "[encoded data removed]"
          },
          "metadata": {
            "needs_background": "light"
          }
        }
      ]
    },
    {
      "cell_type": "code",
      "source": [
        "X_mo_2_train.columns # 완벽한 성능을 의심하여 데이터 유출을 의심해보았으나 문제 없음."
      ],
      "metadata": {
        "colab": {
          "base_uri": "https://localhost:8080/"
        },
        "id": "bwvGeQuXQP5I",
        "outputId": "6303407e-4389-40ca-b936-788c5463c4fe"
      },
      "execution_count": 1079,
      "outputs": [
        {
          "output_type": "execute_result",
          "data": {
            "text/plain": [
              "Index(['PART_NAME', 'EQUIP_CD', 'Injection_Time', 'Filling_Time',\n",
              "       'Plasticizing_Time', 'Cycle_Time', 'Clamp_Close_Time',\n",
              "       'Cushion_Position', 'Switch_Over_Position', 'Plasticizing_Position',\n",
              "       'Clamp_Open_Position', 'Max_Injection_Speed', 'Max_Screw_RPM',\n",
              "       'Average_Screw_RPM', 'Max_Injection_Pressure',\n",
              "       'Max_Switch_Over_Pressure', 'Max_Back_Pressure',\n",
              "       'Average_Back_Pressure', 'Barrel_Temperature_1', 'Barrel_Temperature_2',\n",
              "       'Barrel_Temperature_3', 'Barrel_Temperature_4', 'Barrel_Temperature_5',\n",
              "       'Barrel_Temperature_6', 'Hopper_Temperature', 'Mold_Temperature_3',\n",
              "       'Mold_Temperature_4'],\n",
              "      dtype='object')"
            ]
          },
          "metadata": {},
          "execution_count": 1079
        }
      ]
    },
    {
      "cell_type": "code",
      "source": [
        "importances = pd.Series(pipe[2].feature_importances_, X_mo_2_train.columns)\n",
        "plt.figure(figsize=(5, 10))\n",
        "importances.sort_values().plot.barh();"
      ],
      "metadata": {
        "colab": {
          "base_uri": "https://localhost:8080/",
          "height": 1000
        },
        "id": "8Ma7SRLlPM7z",
        "outputId": "fdee799a-7df3-4b66-b0fe-23bd49344a34"
      },
      "execution_count": 1373,
      "outputs": [
        {
          "output_type": "display_data",
          "data": {
            "text/plain": [
              "<Figure size 720x1440 with 1 Axes>"
            ],
            "image/png": "[encoded data removed]"
          },
          "metadata": {
            "needs_background": "light"
          }
        }
      ]
    },
    {
      "cell_type": "markdown",
      "source": [
        "초기허용불량은 Filling_Time의 이상치로 구분 가능한 것으로 보인다."
      ],
      "metadata": {
        "id": "xzMfmi9uPprI"
      }
    },
    {
      "cell_type": "code",
      "source": [
        "from pdpbox.pdp import pdp_isolate, pdp_plot\n",
        "\n",
        "target_feature = \"Filling_Time\"\n",
        "\n",
        "isolated = pdp_isolate(\n",
        "    model=pipe,\n",
        "    dataset=X_mo_2_test,\n",
        "    model_features=X_mo_2_test.columns,\n",
        "    feature=target_feature,\n",
        "    grid_type=\"percentile\",  # default = 'percentile', or 'equal'\n",
        "    num_grid_points=10,  # default = 10\n",
        ")\n",
        "pdp_plot(isolated, feature_name=target_feature);"
      ],
      "metadata": {
        "colab": {
          "base_uri": "https://localhost:8080/",
          "height": 819
        },
        "id": "gbxnIXkA7znc",
        "outputId": "3e3b38ff-9002-49c8-ec7a-bd8e3ea51999"
      },
      "execution_count": 1375,
      "outputs": [
        {
          "output_type": "display_data",
          "data": {
            "text/plain": [
              "<Figure size 2160x1368 with 2 Axes>"
            ],
            "image/png": "[encoded data removed]"
          },
          "metadata": {
            "needs_background": "light"
          }
        }
      ]
    },
    {
      "cell_type": "markdown",
      "source": [
        "Filling_Time은 충전시간으로 사출기에서 금형으로 내용물이 주입되는 시간으로 금형 교체 및 설비 정지후 재가동 시 처음 나오는 제품공정은 양품 제작의 사이클(3.8초)보다 길어지는 양상을 보였다. 약 7초를 경과하면 불량품으로 예측된다."
      ],
      "metadata": {
        "id": "25v6ZbD4_8xR"
      }
    },
    {
      "cell_type": "markdown",
      "source": [
        "# **미성형 불량 분석**"
      ],
      "metadata": {
        "id": "JOTDutCfM_d8"
      }
    },
    {
      "cell_type": "markdown",
      "source": [
        "미성형 불량 원인\n",
        "1. 사출압력이 부족하다.\n",
        "2. 수지의 유동성이 부족하다. (금형온도, 수지온도, 사출속도)\n",
        "3. 사출속도가 지나치게 빠르다."
      ],
      "metadata": {
        "id": "C-x0miBbfSpW"
      }
    },
    {
      "cell_type": "code",
      "source": [
        "df_mo.loc[reason_3_index].PART_NAME.value_counts() # 부품 2개"
      ],
      "metadata": {
        "colab": {
          "base_uri": "https://localhost:8080/"
        },
        "id": "jFezNbgrND-v",
        "outputId": "4d721645-8177-4c7f-95ec-7f9aecb66dac"
      },
      "execution_count": 24,
      "outputs": [
        {
          "output_type": "execute_result",
          "data": {
            "text/plain": [
              "RG3 MOLD'G W/SHLD, RH    8\n",
              "CN7 W/S SIDE MLD'G LH    3\n",
              "CN7 W/S SIDE MLD'G RH    3\n",
              "RG3 MOLD'G W/SHLD, LH    2\n",
              "Name: PART_NAME, dtype: int64"
            ]
          },
          "metadata": {},
          "execution_count": 24
        }
      ]
    },
    {
      "cell_type": "code",
      "source": [
        "df_mo_3 = df_mo_3.drop(['Barrel_Temperature_7','Mold_Temperature_1', 'Mold_Temperature_2','Mold_Temperature_5', 'Mold_Temperature_6',\n",
        "       'Mold_Temperature_7', 'Mold_Temperature_8', 'Mold_Temperature_9',\n",
        "       'Mold_Temperature_10', 'Mold_Temperature_11', 'Mold_Temperature_12'],axis=1)"
      ],
      "metadata": {
        "id": "1WkFR8X1T8kI"
      },
      "execution_count": 308,
      "outputs": []
    },
    {
      "cell_type": "code",
      "source": [
        "df_mo_3_copy = df_mo_3.copy() # 세이브파일"
      ],
      "metadata": {
        "id": "DD6-TwZTFQPc"
      },
      "execution_count": 1312,
      "outputs": []
    },
    {
      "cell_type": "code",
      "source": [
        "df_mo_3 = df_mo_3_copy # 불러오기"
      ],
      "metadata": {
        "id": "UWGcoxFNFMV_"
      },
      "execution_count": 1311,
      "outputs": []
    },
    {
      "cell_type": "code",
      "source": [
        "# 미성형의 원인인 금형온도로 인한 수지의 유동성일 가능성도 있음.\n",
        "reason_3_list = ['PART_NAME','PassOrFail','Barrel_Temperature_1', 'Barrel_Temperature_2', 'Barrel_Temperature_3',\n",
        "                 'Barrel_Temperature_4', 'Barrel_Temperature_5', 'Barrel_Temperature_6','Max_Injection_Speed', \n",
        "                 'Max_Screw_RPM','Average_Screw_RPM', 'Max_Injection_Pressure']"
      ],
      "metadata": {
        "id": "mMf4T7iTJRR3"
      },
      "execution_count": 1313,
      "outputs": []
    },
    {
      "cell_type": "code",
      "source": [
        "df_mo_3 = df_mo_3[reason_3_list]"
      ],
      "metadata": {
        "id": "ykKBkOABJV3I"
      },
      "execution_count": 1314,
      "outputs": []
    },
    {
      "cell_type": "code",
      "source": [
        "df_RG3_2 = df_mo_3[df_mo_3.PART_NAME.str.contains(\"RG3 MOLD'G W/SHLD, RH\") == True]\n",
        "df_CN7_2 = df_mo_3[df_mo_3.PART_NAME.str.contains('CN7') == True]"
      ],
      "metadata": {
        "id": "gfYhVy_BT6NU"
      },
      "execution_count": 1315,
      "outputs": []
    },
    {
      "cell_type": "code",
      "source": [
        "X_RG3_2_train, y_RG3_2_train, X_RG3_2_test, y_RG3_2_test = split_data(df_RG3_2, mo_target)\n",
        "X_CN7_2_train, y_CN7_2_train, X_CN7_2_test, y_CN7_2_test = split_data(df_CN7_2, mo_target)"
      ],
      "metadata": {
        "id": "uDlYJfJ4UFz2"
      },
      "execution_count": 1316,
      "outputs": []
    },
    {
      "cell_type": "markdown",
      "source": [
        "**RG3**"
      ],
      "metadata": {
        "id": "VJEaevpDuAcl"
      }
    },
    {
      "cell_type": "code",
      "source": [
        "pipe_rf = make_pipeline(\n",
        "    OrdinalEncoder(),\n",
        "    SimpleImputer(),\n",
        "    RandomForestClassifier(max_depth = 6,min_samples_leaf=16,min_samples_split=8,oob_score=True,n_jobs=-1,class_weight=\"balanced\"),\n",
        ")\n",
        "\n",
        "pipe_rf.fit(X_RG3_2_train, y_RG3_2_train)\n",
        "\n",
        "plot_confusion_matrix(pipe_rf, X_RG3_2_test, y_RG3_2_test, cmap=plt.cm.Reds)\n",
        "plt.title(f\"Confusion Matrix (n = {len(y_RG3_2_test)})\", fontsize=15)"
      ],
      "metadata": {
        "colab": {
          "base_uri": "https://localhost:8080/",
          "height": 593
        },
        "id": "Knh-Iyar-dEC",
        "outputId": "b87610e7-02c1-4e9d-e5ac-a628fd7906fa"
      },
      "execution_count": 1381,
      "outputs": [
        {
          "output_type": "execute_result",
          "data": {
            "text/plain": [
              "Text(0.5, 1.0, 'Confusion Matrix (n = 183)')"
            ]
          },
          "metadata": {},
          "execution_count": 1381
        },
        {
          "output_type": "display_data",
          "data": {
            "text/plain": [
              "<Figure size 864x576 with 2 Axes>"
            ],
            "image/png": "[encoded data removed]"
          },
          "metadata": {
            "needs_background": "light"
          }
        }
      ]
    },
    {
      "cell_type": "markdown",
      "source": [
        "불량품 표본이 너무 적어 학습 및 해석 불가능\n",
        "이후 공정검사를 통해 표본이 쌓인다면 분석 가능."
      ],
      "metadata": {
        "id": "WAEGAl9rzPST"
      }
    },
    {
      "cell_type": "markdown",
      "source": [
        "# **후기**"
      ],
      "metadata": {
        "id": "NvvVmHtmA-dD"
      }
    },
    {
      "cell_type": "markdown",
      "source": [
        "이렇게 실제 사업체에서 측정한 데이터를 가지고 프로젝트를 진행해봤는데 실제로 전수검사를 매일 진행하는게 아닌 이상 모든 row의 라벨이 달려있을리가 없는 걸 깨달았다. 데이터를 분석하고 끝이 아닌 어떻게 모델을 발전시켜 공정을 개선시켜 불량율을 낮출까를 고민해보는 좋은 기회였다고 생각한다.\n",
        "\n",
        "후에 시간이 된다면\n",
        "\n",
        "1. 라벨이 달리지 않은 데이터를 이상치 감지를 이용하여 비지도학습을 한다.\n",
        "2. 가스 불량 모델을 개선할 것이다.\n"
      ],
      "metadata": {
        "id": "hEqL-r8sBAWp"
      }
    }
  ]
}